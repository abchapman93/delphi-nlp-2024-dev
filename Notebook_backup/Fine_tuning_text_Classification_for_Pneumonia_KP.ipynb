{
  "cells": [
    {
      "cell_type": "markdown",
      "metadata": {
        "id": "X4cRE8IbIrIV"
      },
      "source": [
        "If you're opening this Notebook on colab, you will probably need to install 🤗 Transformers and 🤗 Datasets. Uncomment the following cell and run it."
      ]
    },
    {
      "cell_type": "code",
      "execution_count": null,
      "metadata": {
        "id": "MOsHUjgdIrIW",
        "colab": {
          "base_uri": "https://localhost:8080/"
        },
        "outputId": "2ebd44ac-2bcc-4c86-cf97-65750615f86b"
      },
      "outputs": [
        {
          "output_type": "stream",
          "name": "stdout",
          "text": [
            "Requirement already satisfied: datasets in /usr/local/lib/python3.10/dist-packages (2.16.1)\n",
            "Requirement already satisfied: transformers in /usr/local/lib/python3.10/dist-packages (4.35.2)\n",
            "Requirement already satisfied: accelerate in /usr/local/lib/python3.10/dist-packages (0.26.1)\n",
            "Requirement already satisfied: evaluate in /usr/local/lib/python3.10/dist-packages (0.4.1)\n",
            "Requirement already satisfied: filelock in /usr/local/lib/python3.10/dist-packages (from datasets) (3.13.1)\n",
            "Requirement already satisfied: numpy>=1.17 in /usr/local/lib/python3.10/dist-packages (from datasets) (1.23.5)\n",
            "Requirement already satisfied: pyarrow>=8.0.0 in /usr/local/lib/python3.10/dist-packages (from datasets) (10.0.1)\n",
            "Requirement already satisfied: pyarrow-hotfix in /usr/local/lib/python3.10/dist-packages (from datasets) (0.6)\n",
            "Requirement already satisfied: dill<0.3.8,>=0.3.0 in /usr/local/lib/python3.10/dist-packages (from datasets) (0.3.7)\n",
            "Requirement already satisfied: pandas in /usr/local/lib/python3.10/dist-packages (from datasets) (1.5.3)\n",
            "Requirement already satisfied: requests>=2.19.0 in /usr/local/lib/python3.10/dist-packages (from datasets) (2.31.0)\n",
            "Requirement already satisfied: tqdm>=4.62.1 in /usr/local/lib/python3.10/dist-packages (from datasets) (4.66.1)\n",
            "Requirement already satisfied: xxhash in /usr/local/lib/python3.10/dist-packages (from datasets) (3.4.1)\n",
            "Requirement already satisfied: multiprocess in /usr/local/lib/python3.10/dist-packages (from datasets) (0.70.15)\n",
            "Requirement already satisfied: fsspec[http]<=2023.10.0,>=2023.1.0 in /usr/local/lib/python3.10/dist-packages (from datasets) (2023.6.0)\n",
            "Requirement already satisfied: aiohttp in /usr/local/lib/python3.10/dist-packages (from datasets) (3.9.3)\n",
            "Requirement already satisfied: huggingface-hub>=0.19.4 in /usr/local/lib/python3.10/dist-packages (from datasets) (0.20.3)\n",
            "Requirement already satisfied: packaging in /usr/local/lib/python3.10/dist-packages (from datasets) (23.2)\n",
            "Requirement already satisfied: pyyaml>=5.1 in /usr/local/lib/python3.10/dist-packages (from datasets) (6.0.1)\n",
            "Requirement already satisfied: regex!=2019.12.17 in /usr/local/lib/python3.10/dist-packages (from transformers) (2023.12.25)\n",
            "Requirement already satisfied: tokenizers<0.19,>=0.14 in /usr/local/lib/python3.10/dist-packages (from transformers) (0.15.1)\n",
            "Requirement already satisfied: safetensors>=0.3.1 in /usr/local/lib/python3.10/dist-packages (from transformers) (0.4.2)\n",
            "Requirement already satisfied: torch!=1.12.0,>=1.10 in /usr/local/lib/python3.10/dist-packages (from transformers) (2.1.0+cu121)\n",
            "Requirement already satisfied: psutil in /usr/local/lib/python3.10/dist-packages (from accelerate) (5.9.5)\n",
            "Requirement already satisfied: responses<0.19 in /usr/local/lib/python3.10/dist-packages (from evaluate) (0.18.0)\n",
            "Requirement already satisfied: aiosignal>=1.1.2 in /usr/local/lib/python3.10/dist-packages (from aiohttp->datasets) (1.3.1)\n",
            "Requirement already satisfied: attrs>=17.3.0 in /usr/local/lib/python3.10/dist-packages (from aiohttp->datasets) (23.2.0)\n",
            "Requirement already satisfied: frozenlist>=1.1.1 in /usr/local/lib/python3.10/dist-packages (from aiohttp->datasets) (1.4.1)\n",
            "Requirement already satisfied: multidict<7.0,>=4.5 in /usr/local/lib/python3.10/dist-packages (from aiohttp->datasets) (6.0.5)\n",
            "Requirement already satisfied: yarl<2.0,>=1.0 in /usr/local/lib/python3.10/dist-packages (from aiohttp->datasets) (1.9.4)\n",
            "Requirement already satisfied: async-timeout<5.0,>=4.0 in /usr/local/lib/python3.10/dist-packages (from aiohttp->datasets) (4.0.3)\n",
            "Requirement already satisfied: typing-extensions>=3.7.4.3 in /usr/local/lib/python3.10/dist-packages (from huggingface-hub>=0.19.4->datasets) (4.9.0)\n",
            "Requirement already satisfied: charset-normalizer<4,>=2 in /usr/local/lib/python3.10/dist-packages (from requests>=2.19.0->datasets) (3.3.2)\n",
            "Requirement already satisfied: idna<4,>=2.5 in /usr/local/lib/python3.10/dist-packages (from requests>=2.19.0->datasets) (3.6)\n",
            "Requirement already satisfied: urllib3<3,>=1.21.1 in /usr/local/lib/python3.10/dist-packages (from requests>=2.19.0->datasets) (2.0.7)\n",
            "Requirement already satisfied: certifi>=2017.4.17 in /usr/local/lib/python3.10/dist-packages (from requests>=2.19.0->datasets) (2024.2.2)\n",
            "Requirement already satisfied: sympy in /usr/local/lib/python3.10/dist-packages (from torch!=1.12.0,>=1.10->transformers) (1.12)\n",
            "Requirement already satisfied: networkx in /usr/local/lib/python3.10/dist-packages (from torch!=1.12.0,>=1.10->transformers) (3.2.1)\n",
            "Requirement already satisfied: jinja2 in /usr/local/lib/python3.10/dist-packages (from torch!=1.12.0,>=1.10->transformers) (3.1.3)\n",
            "Requirement already satisfied: triton==2.1.0 in /usr/local/lib/python3.10/dist-packages (from torch!=1.12.0,>=1.10->transformers) (2.1.0)\n",
            "Requirement already satisfied: python-dateutil>=2.8.1 in /usr/local/lib/python3.10/dist-packages (from pandas->datasets) (2.8.2)\n",
            "Requirement already satisfied: pytz>=2020.1 in /usr/local/lib/python3.10/dist-packages (from pandas->datasets) (2023.4)\n",
            "Requirement already satisfied: six>=1.5 in /usr/local/lib/python3.10/dist-packages (from python-dateutil>=2.8.1->pandas->datasets) (1.16.0)\n",
            "Requirement already satisfied: MarkupSafe>=2.0 in /usr/local/lib/python3.10/dist-packages (from jinja2->torch!=1.12.0,>=1.10->transformers) (2.1.5)\n",
            "Requirement already satisfied: mpmath>=0.19 in /usr/local/lib/python3.10/dist-packages (from sympy->torch!=1.12.0,>=1.10->transformers) (1.3.0)\n"
          ]
        }
      ],
      "source": [
        "! pip install datasets transformers transformers[torch] accelerate evaluate"
      ]
    },
    {
      "cell_type": "markdown",
      "metadata": {
        "id": "WsqqyUAZG0mp"
      },
      "source": [
        "If you're opening this notebook locally, make sure your environment has an install from the last version of those libraries.\n",
        "\n",
        "To be able to share your model with the community and generate results like the one shown in the picture below via the inference API, there are a few more steps to follow.\n",
        "\n",
        "First you have to store your authentication token from the Hugging Face website (sign up [here](https://huggingface.co/join) if you haven't already!) then execute the following cell and input your username and password:"
      ]
    },
    {
      "cell_type": "code",
      "execution_count": null,
      "metadata": {
        "id": "0mvB19MOG0mp",
        "colab": {
          "base_uri": "https://localhost:8080/",
          "height": 303,
          "referenced_widgets": [
            "44a1bb1740d64362930f9f9b8e026602",
            "ccda97ad6f19483b92c7c53e04c5ef0e",
            "c38f8a24558e4ea6af07e3635af48b15",
            "0a16ea30083c4d59b7ae26c2edb316c7",
            "32629fc3ac2a441c941dcbb5847acd00",
            "44be8fc055b8442f8ac4f0d5516e9ac6",
            "ce319a0be377465b95bc8587e71abc0b",
            "f6838fc74f3c4ab19ece73793da8f892",
            "8f5d3fd6f06045a490fdb5ffecd5ea33",
            "5690d2ea0a9948f4a8d6605808523040",
            "7a9770040a904bb6aa9fea7d448870f3",
            "139215b3d81a4cf1b724596aa6b8ee87",
            "954375c80392445dae4401e2060b990d",
            "e5b5d9bfd83d43b5905375b8d27fe675",
            "85377ae6bcdf4fac987add80f23407f0",
            "69bab5596034421581f88c36b4fa0597",
            "41a62b0142cd4c5ba49dd02b310abca7"
          ]
        },
        "outputId": "fac892d0-adbd-408b-dcef-d84a046e486d"
      },
      "outputs": [
        {
          "output_type": "display_data",
          "data": {
            "text/plain": [
              "VBox(children=(HTML(value='<center> <img\\nsrc=https://huggingface.co/front/assets/huggingface_logo-noborder.sv…"
            ],
            "application/vnd.jupyter.widget-view+json": {
              "version_major": 2,
              "version_minor": 0,
              "model_id": "44a1bb1740d64362930f9f9b8e026602"
            }
          },
          "metadata": {}
        }
      ],
      "source": [
        "from huggingface_hub import notebook_login\n",
        "\n",
        "notebook_login()"
      ]
    },
    {
      "cell_type": "markdown",
      "metadata": {
        "id": "C_zVlHDLG0mp"
      },
      "source": [
        "Then you need to install Git-LFS. Uncomment the following instructions:"
      ]
    },
    {
      "cell_type": "code",
      "execution_count": null,
      "metadata": {
        "id": "3SGnevldG0mp",
        "colab": {
          "base_uri": "https://localhost:8080/"
        },
        "outputId": "5d6decc7-d9e8-4ea3-f0ff-2f9659cadc4d"
      },
      "outputs": [
        {
          "output_type": "stream",
          "name": "stdout",
          "text": [
            "Reading package lists... Done\n",
            "Building dependency tree... Done\n",
            "Reading state information... Done\n",
            "git-lfs is already the newest version (3.0.2-1ubuntu0.2).\n",
            "0 upgraded, 0 newly installed, 0 to remove and 32 not upgraded.\n"
          ]
        }
      ],
      "source": [
        "!apt install git-lfs"
      ]
    },
    {
      "cell_type": "markdown",
      "metadata": {
        "id": "BThWFw88G0mp"
      },
      "source": [
        "Make sure your version of Transformers is at least 4.11.0 since the functionality was introduced in that version:"
      ]
    },
    {
      "cell_type": "code",
      "execution_count": null,
      "metadata": {
        "id": "HbUHBSDVG0mq",
        "colab": {
          "base_uri": "https://localhost:8080/"
        },
        "outputId": "dd2d6652-97c6-4c64-8ab5-3ad8e377a7ad"
      },
      "outputs": [
        {
          "output_type": "stream",
          "name": "stdout",
          "text": [
            "4.35.2\n",
            "1.2.2\n"
          ]
        }
      ],
      "source": [
        "import csv\n",
        "import requests\n",
        "import pandas as pd\n",
        "\n",
        "import sklearn\n",
        "from sklearn.metrics import accuracy_score, precision_score, recall_score, f1_score\n",
        "\n",
        "import evaluate\n",
        "\n",
        "import transformers\n",
        "\n",
        "from datasets import Dataset\n",
        "\n",
        "print(transformers.__version__)\n",
        "print(sklearn.__version__)"
      ]
    },
    {
      "cell_type": "markdown",
      "metadata": {
        "id": "HFASsisvIrIb"
      },
      "source": [
        "You can find a script version of this notebook to fine-tune your model in a distributed fashion using multiple GPUs or TPUs [here](https://github.com/huggingface/transformers/tree/master/examples/text-classification)."
      ]
    },
    {
      "cell_type": "markdown",
      "metadata": {
        "id": "rEJBSTyZIrIb"
      },
      "source": [
        "# Fine-tuning a model on a text classification task"
      ]
    },
    {
      "cell_type": "markdown",
      "metadata": {
        "id": "4RRkXuteIrIh"
      },
      "source": [
        "Some initial parameters for starting our model, even if it's not ideal for our\n",
        "task of PNEUMONIA classification"
      ]
    },
    {
      "cell_type": "code",
      "execution_count": null,
      "metadata": {
        "id": "zVvslsfMIrIh"
      },
      "outputs": [],
      "source": [
        "model_checkpoint = \"distilbert-base-uncased\"\n",
        "batch_size = 16"
      ]
    },
    {
      "cell_type": "markdown",
      "metadata": {
        "id": "whPRbBNbIrIl"
      },
      "source": [
        "## Loading the dataset"
      ]
    },
    {
      "cell_type": "code",
      "source": [
        "# put a dl=1 here\n",
        "#CSV_URL = 'https://www.dropbox.com/scl/fi/4x8aj95l7e9x96f4qzch1/mimic2_pneumonia_corpus.csv?rlkey=9rgtu2cp7wfv4rbpx3kw36a7g&dl=0'\n",
        "CSV_URL = 'https://www.dropbox.com/scl/fi/4x8aj95l7e9x96f4qzch1/mimic2_pneumonia_corpus.csv?rlkey=9rgtu2cp7wfv4rbpx3kw36a7g&dl=1'\n",
        "\n",
        "df = pd.read_csv(CSV_URL)\n",
        "\n",
        "print(df.head())"
      ],
      "metadata": {
        "colab": {
          "base_uri": "https://localhost:8080/"
        },
        "id": "BcIzyCxRVapD",
        "outputId": "4dfadcfb-0ea1-4a6f-db54-6f59bdb6ef8f"
      },
      "execution_count": null,
      "outputs": [
        {
          "output_type": "stream",
          "name": "stdout",
          "text": [
            "   Unnamed: 0  subject_id  hadm_id             admit_dt  Pneumonia  \\\n",
            "0           5          37    18052  3264-08-14 00:00:00          1   \n",
            "1          14          94     8743  2656-08-18 00:00:00          1   \n",
            "2          10         117    14296  3131-11-27 00:00:00          1   \n",
            "3          19         184      203  3251-04-30 00:00:00          1   \n",
            "4          18         184    17249  3251-03-19 00:00:00          1   \n",
            "\n",
            "                                                text  \n",
            "0  \\n\\n\\n     DATE: [**3264-8-14**] 10:57 AM\\n   ...  \n",
            "1  \\n\\n\\n     DATE: [**2656-8-19**] 4:17 PM\\n    ...  \n",
            "2  \\n\\n\\n     DATE: [**3131-11-28**] 1:30 PM\\n   ...  \n",
            "3  \\n\\n\\n     DATE: [**3251-5-1**] 3:18 PM\\n     ...  \n",
            "4  \\n\\n\\n     DATE: [**3251-3-19**] 3:18 PM\\n    ...  \n"
          ]
        }
      ]
    },
    {
      "cell_type": "code",
      "source": [
        "# now that we have a dataframe, here's a way to iterate through the rows\n",
        "\n",
        "all_dataset_dicts = []\n",
        "\n",
        "for index, row in df.iterrows():\n",
        "  text = row['text']\n",
        "  label = row['Pneumonia']\n",
        "\n",
        "  # key values of text and label\n",
        "  row_dict = {'text': text, 'label': label}\n",
        "  all_dataset_dicts.append(row_dict)\n",
        "\n",
        "print(f'len(all_dataset_dicts): {len(all_dataset_dicts)}')"
      ],
      "metadata": {
        "colab": {
          "base_uri": "https://localhost:8080/"
        },
        "id": "gd2w0NieWluY",
        "outputId": "5d889dc1-3879-4b0f-93ee-67a8aca3a306"
      },
      "execution_count": null,
      "outputs": [
        {
          "output_type": "stream",
          "name": "stdout",
          "text": [
            "len(all_dataset_dicts): 200\n"
          ]
        }
      ]
    },
    {
      "cell_type": "code",
      "source": [
        "# now that we have all of the data, let's turn this into a type (Dataset) which HuggingFace recognizes\n",
        "\n",
        "dataset_before_split = Dataset.from_list(all_dataset_dicts)"
      ],
      "metadata": {
        "id": "Xe6vp6P1YKvD"
      },
      "execution_count": null,
      "outputs": []
    },
    {
      "cell_type": "code",
      "source": [
        "# now let's split this up into train and test:\n",
        "\n",
        "dataset = dataset_before_split.train_test_split(test_size=0.3)\n",
        "\n",
        "print(type(dataset))"
      ],
      "metadata": {
        "colab": {
          "base_uri": "https://localhost:8080/"
        },
        "id": "WUQ57MF_ZW6E",
        "outputId": "f2a58e10-fe68-461c-b5a3-6a30f2f503d4"
      },
      "execution_count": null,
      "outputs": [
        {
          "output_type": "stream",
          "name": "stdout",
          "text": [
            "<class 'datasets.dataset_dict.DatasetDict'>\n"
          ]
        }
      ]
    },
    {
      "cell_type": "markdown",
      "metadata": {
        "id": "RzfPtOMoIrIu"
      },
      "source": [
        "The `dataset` object itself is [`DatasetDict`](https://huggingface.co/docs/datasets/package_reference/main_classes.html#datasetdict), which contains one key for the training, validation and test set (with more keys for the mismatched validation and test set in the special case of `mnli`)."
      ]
    },
    {
      "cell_type": "code",
      "execution_count": null,
      "metadata": {
        "id": "GWiVUF0jIrIv",
        "outputId": "f1234175-54bf-4cb6-8010-df3e0fb5c28a",
        "colab": {
          "base_uri": "https://localhost:8080/"
        }
      },
      "outputs": [
        {
          "output_type": "execute_result",
          "data": {
            "text/plain": [
              "DatasetDict({\n",
              "    train: Dataset({\n",
              "        features: ['text', 'label'],\n",
              "        num_rows: 140\n",
              "    })\n",
              "    test: Dataset({\n",
              "        features: ['text', 'label'],\n",
              "        num_rows: 60\n",
              "    })\n",
              "})"
            ]
          },
          "metadata": {},
          "execution_count": 10
        }
      ],
      "source": [
        "dataset"
      ]
    },
    {
      "cell_type": "markdown",
      "metadata": {
        "id": "u3EtYfeHIrIz"
      },
      "source": [
        "To access an actual element, you need to select a split first, then give an index:"
      ]
    },
    {
      "cell_type": "code",
      "execution_count": null,
      "metadata": {
        "id": "X6HrpprwIrIz",
        "outputId": "7168e5c3-cb71-45b7-d516-d7dde275d41e",
        "colab": {
          "base_uri": "https://localhost:8080/"
        }
      },
      "outputs": [
        {
          "output_type": "execute_result",
          "data": {
            "text/plain": [
              "{'text': '\\n\\n\\n     DATE: [**3134-10-10**] 1:50 PM\\n     CHEST (PORTABLE AP)                                             Clip # [**Clip Number (Radiology) 9288**]\\n     Reason: eval for placement of right IJ                              \\n     Admitting Diagnosis: SEIZURE\\n     ______________________________________________________________________________\\n     UNDERLYING MEDICAL CONDITION:\\n       [**Age over 90 **] year old man with seizure/altered mental status, s/p right IJ placement.    \\n                                                           \\n     REASON FOR THIS EXAMINATION:\\n      eval for placement of right IJ                                                  \\n     ______________________________________________________________________________\\n                                     FINAL REPORT\\n     CHEST SINGLE AP FILM.\\n     \\n     History of seizures with right jugular CV line placement.\\n     \\n     Endotracheal tube is 2 cm above carina.  Tip of right jugular CV line is in\\n     region of cavoatrial junction to be entering the upper portion of the right\\n     atrium.  NG tube is in antrum of stomach.  No pneumothorax.  Heart size is\\n     mild to slightly enlarged for technique.  Atelectasis is present at the right\\n     lung base and there is in addition some atelectasis or possibly evolving\\n     infiltrate in the left lower lobe.\\n\\n',\n",
              " 'label': 1}"
            ]
          },
          "metadata": {},
          "execution_count": 11
        }
      ],
      "source": [
        "dataset[\"train\"][0]"
      ]
    },
    {
      "cell_type": "markdown",
      "metadata": {
        "id": "WHUmphG3IrI3"
      },
      "source": [
        "To get a sense of what the data looks like, the following function will show some examples picked randomly in the dataset."
      ]
    },
    {
      "cell_type": "code",
      "execution_count": null,
      "metadata": {
        "id": "i3j8APAoIrI3"
      },
      "outputs": [],
      "source": [
        "import datasets\n",
        "import random\n",
        "import pandas as pd\n",
        "from IPython.display import display, HTML\n",
        "\n",
        "def show_random_elements(dataset, num_examples=10):\n",
        "    assert num_examples <= len(dataset), \"Can't pick more elements than there are in the dataset.\"\n",
        "    picks = []\n",
        "    for _ in range(num_examples):\n",
        "        pick = random.randint(0, len(dataset)-1)\n",
        "        while pick in picks:\n",
        "            pick = random.randint(0, len(dataset)-1)\n",
        "        picks.append(pick)\n",
        "\n",
        "    df = pd.DataFrame(dataset[picks])\n",
        "    for column, typ in dataset.features.items():\n",
        "        if isinstance(typ, datasets.ClassLabel):\n",
        "            df[column] = df[column].transform(lambda i: typ.names[i])\n",
        "    display(HTML(df.to_html()))"
      ]
    },
    {
      "cell_type": "code",
      "execution_count": null,
      "metadata": {
        "id": "SZy5tRB_IrI7",
        "outputId": "08ca854c-7ec1-494a-eddb-4dd178dbf3c6",
        "colab": {
          "base_uri": "https://localhost:8080/",
          "height": 901
        }
      },
      "outputs": [
        {
          "output_type": "display_data",
          "data": {
            "text/plain": [
              "<IPython.core.display.HTML object>"
            ],
            "text/html": [
              "<table border=\"1\" class=\"dataframe\">\n",
              "  <thead>\n",
              "    <tr style=\"text-align: right;\">\n",
              "      <th></th>\n",
              "      <th>text</th>\n",
              "      <th>label</th>\n",
              "    </tr>\n",
              "  </thead>\n",
              "  <tbody>\n",
              "    <tr>\n",
              "      <th>0</th>\n",
              "      <td>\\n\\n\\n     DATE: [**2944-4-10**] 8:28 AM\\n     CHEST (PORTABLE AP)                                             Clip # [**Clip Number (Radiology) 16298**]\\n     Reason: PLEASE COMPARE WITH [**2944-4-9**] CXR TO ASSESS PNEUMOTHORAX      \\n     ______________________________________________________________________________\\n     UNDERLYING MEDICAL CONDITION:\\n         77 year old man with dyspnea, hx/o lung ca verify tube placement             \\n         \\n     REASON FOR THIS EXAMINATION:\\n      PLEASE COMPARE WITH [**2944-4-9**] CXR TO ASSESS PNEUMOTHORAX                          \\n     ______________________________________________________________________________\\n                                     FINAL REPORT\\n     INDICATION:  Lung CA, dyspnea, tube placement.\\n     \\n     AP PORTABLE SEMI-UPRIGHT CHEST:  Left-sided chest tube projects over the left\\n     lung apex.  There is extensive subcutaneous emphysema.  Right subclavian line\\n     projects its tip over the distal SVC.  There is a persistent minute left\\n     apical pneumothorax.  The heart is probably enlarged.  The aorta is unfolded\\n     and ectatic.  Compared to the exam one day previously, the retrocardiac patchy\\n      atelectasis appears slightly improved.  Extensive left upper quadrant\\n     surgical clips are noted.\\n     \\n     IMPRESSION:\\n     \\n     1. No significant change in minute left apical pneumothorax.\\n     2. Perhaps slight interval improvement in retrocardiac lower lobe\\n     atelectasis.  \\n\\n</td>\n",
              "      <td>1</td>\n",
              "    </tr>\n",
              "    <tr>\n",
              "      <th>1</th>\n",
              "      <td>\\n\\n\\n     DATE: [**2721-6-30**] 9:45 PM\\n     CHEST (PA &amp; LAT)                                                Clip # [**Clip Number (Radiology) 13923**]\\n     Reason: Pleural effusions? Nodules?                                 \\n     Admitting Diagnosis: LYMPHOMA\\n     ______________________________________________________________________________\\n     UNDERLYING MEDICAL CONDITION:\\n      37 year old woman with DVT, ? PE on VQ, with workup for probable malignancy.    \\n     REASON FOR THIS EXAMINATION:\\n      Pleural effusions? Nodules?                                                     \\n     ______________________________________________________________________________\\n                                     FINAL REPORT\\n     HISTORY:  37 year old woman with DVT and ?PE.  Being worked up for a probable\\n     malignancy.\\n     \\n     CHEST PA AND LATERAL:  The heart size is normal.  There is an area of\\n     increased opacity lateral to the right paratracheal stripe.  In the right\\n     upper lobe, there is a small focal opacity.  The lungs are otherwise clear.\\n     There are no pleural effusions.  Osseous and soft-tissue structures are\\n     unremarkable.\\n     \\n     IMPRESSION:  Small focal opacity in right upper lobe and right paratracheal\\n     opacity.  In the setting of possibly malignancy, CT scan of the chest is\\n     recommended for further evaluation.\\n\\n</td>\n",
              "      <td>0</td>\n",
              "    </tr>\n",
              "    <tr>\n",
              "      <th>2</th>\n",
              "      <td>\\n\\n\\n     DATE: [**3060-1-8**] 3:40 PM\\n     CHEST (PORTABLE AP); -59 DISTINCT PROCEDURAL SERVICE            Clip # [**Clip Number (Radiology) 8574**]\\n     Reason: please eval for CHF/PNA                                     \\n     ______________________________________________________________________________\\n     UNDERLYING MEDICAL CONDITION:\\n           75 year old man with hypotension and recent V tach.                        \\n     REASON FOR THIS EXAMINATION:\\n      please eval for CHF/PNA                                                         \\n     ______________________________________________________________________________\\n                                     FINAL REPORT\\n     INDICATION:  75-year-old male with hypertension and recent V-TACH.  Evaluate\\n     for CHF or pneumonia.\\n     \\n     COMPARISONS:  Comparison is made to [**3059-12-21**].\\n     \\n     TECHNIQUE:  AP semi-upright single view of the chest.\\n     \\n     FINDINGS:  There is a left chest wall AICD biventricular pacer with leads in\\n     unchanged position.  There is again noted cardiomegaly.  The heart size is\\n     stable when compared to prior study.  There is interval increase in opacity\\n     involving the entire right lung.  There are also more patchy opacities\\n     involving the left mid and lower lung zones. There appears to be a left\\n     pleural effusion. These findings could represent asymmetric pulmonary edema\\n     Vs. an infectious process involving the right lung.\\n     \\n     IMPRESSION:\\n     1.  Findings are most consistent with asymmetric pulmonary edema. However,\\n     superimposed infection cannot be excluded.\\n     2.  Left pleural effusion.\\n     3.  Stable cardiomegaly.\\n\\n</td>\n",
              "      <td>1</td>\n",
              "    </tr>\n",
              "    <tr>\n",
              "      <th>3</th>\n",
              "      <td>\\n\\n\\n     DATE: [**2709-6-16**] 10:28 PM\\n     CHEST (PORTABLE AP)                                             Clip # [**Clip Number (Radiology) 13424**]\\n     Reason: r/out pna, edema                                            \\n     Admitting Diagnosis: PULMONARY EDEMA\\n     ______________________________________________________________________________\\n     UNDERLYING MEDICAL CONDITION:\\n      84 year old man with AS, here with sob                                          \\n     REASON FOR THIS EXAMINATION:\\n      r/out pna, edema                                                                \\n     ______________________________________________________________________________\\n                                     FINAL REPORT\\n     REASON FOR EXAMINATION:  Shortness of breath in a patient with aortic\\n     stenosis.\\n     \\n     Portable AP chest radiograph compared to [**2705-2-8**].\\n     \\n     The heart size is mildly enlarged but grossly unchanged.  The aorta is\\n     tortuous and calcified.  The lungs are hyperinflated.  This most likely\\n     represent unlike emphysema.  Perihilar opacities involving the lower lobes are\\n     demonstrated, right slightly worse than left and might represent pulmonary\\n     edema with asymmetric appearance due to underlying emphysema.  Small right\\n     pleural effusion cannot be excluded.  The slight asymmetry between the lungs\\n     might represent underlying right lower lobe infectious process which can be\\n     better characterized after resolving of pulmonary edema.\\n                                                                           \\n\\n</td>\n",
              "      <td>1</td>\n",
              "    </tr>\n",
              "    <tr>\n",
              "      <th>4</th>\n",
              "      <td>\\n\\n\\n     DATE: [**2950-2-16**] 7:24 PM\\n     CHEST (PORTABLE AP)                                             Clip # [**Clip Number (Radiology) 8312**]\\n     Reason: ? ett placement, ? infiltrates                              \\n     Admitting Diagnosis: HEMOPTYSIS,LUNG CA\\n     ______________________________________________________________________________\\n     UNDERLYING MEDICAL CONDITION:\\n      64 year old man with NSCL CA presenting intubated with hemoptysis               \\n     REASON FOR THIS EXAMINATION:\\n      ? ett placement, ? infiltrates                                                  \\n     ______________________________________________________________________________\\n                                     FINAL REPORT\\n     CHEST PORTABLE\\n     \\n     INDICATION:  64-year-old man with non-small cell lung cancer with hemoptysis,\\n     evaluate for ET tube placement.\\n     \\n     CHEST PORTABLE:  No prior studies are available for comparison.  The heart\\n     size is difficult to evaluate.  The left lung is normally aerated.  There is\\n     pleural thickening surrounding the right lung and right mediastinal\\n     lymphadenopathy.  Patchy opacities are seen throughout the right lung which\\n     could be due to atelectasis from compression of the right lung or represent\\n     air space consolidation.  An ET tube is identified with tip 6.3 cm from the\\n     carina.  An NG tube is seen, the tip of which is not depicted on this film but\\n     the tube reaches the stomach.\\n     \\n     IMPRESSION:\\n     \\n     1.  ET tube with its tip 6.3 cm from the carina.\\n     \\n     2.  Right mediastinal lymphadenopathy and pleural thickening/pleural effusion\\n     surrounding the right lung.\\n                                                                           \\n\\n</td>\n",
              "      <td>1</td>\n",
              "    </tr>\n",
              "    <tr>\n",
              "      <th>5</th>\n",
              "      <td>\\n\\n\\n     DATE: [**3495-10-11**] 11:38 AM\\n     CHEST (PORTABLE AP)                                             Clip # [**Clip Number (Radiology) 10446**]\\n     Reason: r/o pneumonia                                               \\n     ______________________________________________________________________________\\n     UNDERLYING MEDICAL CONDITION:\\n      [**Age over 90 **] year old woman with worsening sob x 2 days.  now with hypoxia and hemoptysis \\n     REASON FOR THIS EXAMINATION:\\n      r/o pneumonia                                                                   \\n     ______________________________________________________________________________\\n                                     FINAL REPORT\\n     This is a portable upright chest dated [**3495-10-11**], with clinical\\n     indication of worsening shortness of breath for 2 days.  Hemoptysis and\\n     hypoxia.\\n     \\n     The cardiac silhouette is enlarged but is difficult to fully assess due to\\n     obscuration of the right heart border.  Pulmonary vascularity is slightly\\n     engorged and there is perihilar haziness. There are multifocal areas of\\n     consolidation present in the lower lobes, right greater than left, and there\\n     is a more confluent opacity in the right perihilar region.\\n     Collapse/consolidation of right middle lobe is also noted. There are bilateral\\n     pleural effusions, moderate on the right and small on the left.\\n     \\n     IMPRESSION:\\n     \\n     1.  Multilobar consolidation, which could reflect asymmetrical edema and/or\\n     multilobar pneumonia. A postobstructive process in the right middle lobe\\n     cannot be excluded. By report, the patient is scheduled to undergo CTA, which\\n     will be helpful for more complete characterization of these findings.\\n     2. Bilateral pleural effusions, right greater than left.\\n     \\n\\n</td>\n",
              "      <td>1</td>\n",
              "    </tr>\n",
              "    <tr>\n",
              "      <th>6</th>\n",
              "      <td>\\n\\n\\n     DATE: [**2776-2-17**] 9:49 AM\\n     CHEST (PA &amp; LAT)                                                Clip # [**Clip Number (Radiology) 10141**]\\n     Reason: Please evaluate for chf vs pneumonia.                       \\n     Admitting Diagnosis: CORONARY ARTERY DISEASE\\n     ______________________________________________________________________________\\n     UNDERLYING MEDICAL CONDITION:\\n        83 year old woman with sob, cough, recent MI. please evaluate for chf and \\n      pneumonia.\\n     REASON FOR THIS EXAMINATION:\\n      Please evaluate for chf vs pneumonia.                                           \\n     ______________________________________________________________________________\\n                                     FINAL REPORT\\n     CHEST PA AND LATERAL FROM [**2-17**]\\n     \\n     HISTORY:  Shortness of breath and cough.  Recent MI.  Please evaluate for CHF\\n     versus pneumonia.\\n     \\n     AP upright and left lateral views of the chest show interval clearing of\\n     pleural effusion seen on the patient's prior portable study from [**2776-1-14**].  No focal consolidation is seen to suggest pneumonia and the pulmonary\\n     vasculature is not congested.  Moderate cardiomegaly appears stable and soft\\n     tissue mass at the right upper mediastinum has been shown to be vascular on\\n     previous cross sectional imaging studies.  Tunneled dialysis tubing is seen\\n     with distal tip at the level of the right atrium and the proximal tip at the\\n     level of the SVC/right atrial junction.  Calcified atherosclerotic plaque is\\n     seen in the arch of the aorta.\\n     \\n     CONCLUSION:  No CHF or pneumonia.\\n                                                                           \\n\\n</td>\n",
              "      <td>1</td>\n",
              "    </tr>\n",
              "    <tr>\n",
              "      <th>7</th>\n",
              "      <td>\\n\\n\\n     DATE: [**3287-4-16**] 7:33 PM\\n     CHEST (PORTABLE AP)                                             Clip # [**Clip Number (Radiology) 14455**]\\n     Reason: r/o pneu                                                    \\n     ______________________________________________________________________________\\n     UNDERLYING MEDICAL CONDITION:\\n        82 year old woman with hypotension                                            \\n     REASON FOR THIS EXAMINATION:\\n      r/o pneu                                                                        \\n     ______________________________________________________________________________\\n                                     FINAL REPORT\\n     INDICATION:  Hypotension.\\n     \\n     CHEST X-RAY, PORTABLE AP:  An endotracheal tube is present which lies\\n     immediately below the thoracic inlet, 3 cm from the carina.  There is a right\\n     internal jugular central venous line with tip in the mid superior vena cava. A\\n     nasogastric tube is present which passes below the level of the diaphragm.\\n     Linear opacities are present at the right lung base, adjacent to the right\\n     cardiac border.  This is likely consistent with atelectasis.  No infiltrates\\n     or consolidations are present.  There is no pneumothorax.  Slight blunting is\\n     present at the right lung base, likely consistent with a small amount of\\n     pleural fluid.  The osseous structures are unremarkable.\\n     \\n     IMPRESSION:\\n     \\n     1) Tubes and lines as described above.\\n     \\n     2) No acute infiltrate or consolidation.\\n\\n</td>\n",
              "      <td>1</td>\n",
              "    </tr>\n",
              "    <tr>\n",
              "      <th>8</th>\n",
              "      <td>\\n\\n\\n     DATE: [**2948-10-10**] 7:32 PM\\n     CHEST (PORTABLE AP)                                             Clip # [**Clip Number (Radiology) 12144**]\\n     Reason: Bilateral PNA                                               \\n     ______________________________________________________________________________\\n     UNDERLYING MEDICAL CONDITION:\\n                74s/ year old male with bilat PNA.                                    \\n       \\n     REASON FOR THIS EXAMINATION:\\n      Bilateral PNA                                                                   \\n     ______________________________________________________________________________\\n                                     FINAL REPORT\\n     INDICATION:  74-year-old man with bilateral pneumonia.\\n     \\n     Portable AP view of the chest performed [**2948-10-10**] at 19:27 hours:  Comparison is\\n     made with the prior study performed the same day at 00:06 hours.  An ET tube,\\n     NG tube and left central venous catheter are again noted essentially unchanged\\n     in position.  The heart size is within normal limits.  The aorta is calcified.\\n     There has been no significant change in the patchy right-sided parenchymal\\n     abnormalities, including air space opacities in the right mid and lower lung\\n     zones.  Allowing for differences in patient rotation there has been no\\n     significant change in the left perihilar infiltrate.  The extreme right\\n     costophrenic angle is excluded and cannot be assessed.\\n     \\n     IMPRESSION:  Allowing for differences in patient rotation there has been no\\n     significant change compared to prior study.\\n\\n</td>\n",
              "      <td>0</td>\n",
              "    </tr>\n",
              "    <tr>\n",
              "      <th>9</th>\n",
              "      <td>\\n\\n\\n     DATE: [**3353-1-10**] 5:35 PM\\n     CHEST (PA &amp; LAT)                                                Clip # [**Clip Number (Radiology) 1659**]\\n     Reason: Patient with Hx NHL now febrile and neutropenic.  Question p\\n     ICD9 code from order: 202.8\\n     ______________________________________________________________________________\\n     UNDERLYING MEDICAL CONDITION:\\n       55 year old man with T cell lymphoma s/p auto BMT currently with fevers       \\n     REASON FOR THIS EXAMINATION:\\n      Patient with Hx NHL now febrile and neutropenic.  Question pneumonia\\n     ______________________________________________________________________________\\n                                     FINAL REPORT\\n     CHEST 2 VIEWS PA &amp; LATERAL:\\n     \\n     HISTORY: T cell lymphoma with bone marrow transplant and fever.\\n     \\n     Heart size is normal. The lungs are clear. No pleural effusions. Left sided\\n     PICC line is in region of cavoatrial junction.\\n     \\n     IMPRESSION: No evidence for pneumonia. No change since prior study of [**12-13**], 05.\\n\\n</td>\n",
              "      <td>0</td>\n",
              "    </tr>\n",
              "  </tbody>\n",
              "</table>"
            ]
          },
          "metadata": {}
        }
      ],
      "source": [
        "show_random_elements(dataset[\"train\"])"
      ]
    },
    {
      "cell_type": "markdown",
      "metadata": {
        "id": "n9qywopnIrJH"
      },
      "source": [
        "## Preprocessing the data"
      ]
    },
    {
      "cell_type": "markdown",
      "metadata": {
        "id": "YVx71GdAIrJH"
      },
      "source": [
        "Before we can feed those texts to our model, we need to preprocess them. This is done by a 🤗 Transformers `Tokenizer` which will (as the name indicates) tokenize the inputs (including converting the tokens to their corresponding IDs in the pretrained vocabulary) and put it in a format the model expects, as well as generate the other inputs that model requires.\n",
        "\n",
        "To do all of this, we instantiate our tokenizer with the `AutoTokenizer.from_pretrained` method, which will ensure:\n",
        "\n",
        "- we get a tokenizer that corresponds to the model architecture we want to use,\n",
        "- we download the vocabulary used when pretraining this specific checkpoint.\n",
        "\n",
        "That vocabulary will be cached, so it's not downloaded again the next time we run the cell."
      ]
    },
    {
      "cell_type": "code",
      "execution_count": null,
      "metadata": {
        "id": "eXNLu_-nIrJI",
        "colab": {
          "base_uri": "https://localhost:8080/"
        },
        "outputId": "28e2fdad-dd6d-4e1b-97c7-26c6cc5ffc01"
      },
      "outputs": [
        {
          "output_type": "stream",
          "name": "stderr",
          "text": [
            "/usr/local/lib/python3.10/dist-packages/huggingface_hub/utils/_token.py:88: UserWarning: \n",
            "The secret `HF_TOKEN` does not exist in your Colab secrets.\n",
            "To authenticate with the Hugging Face Hub, create a token in your settings tab (https://huggingface.co/settings/tokens), set it as secret in your Google Colab and restart your session.\n",
            "You will be able to reuse this secret in all of your notebooks.\n",
            "Please note that authentication is recommended but still optional to access public models or datasets.\n",
            "  warnings.warn(\n"
          ]
        }
      ],
      "source": [
        "from transformers import AutoTokenizer\n",
        "\n",
        "tokenizer = AutoTokenizer.from_pretrained(model_checkpoint, use_fast=True)"
      ]
    },
    {
      "cell_type": "markdown",
      "metadata": {
        "id": "Vl6IidfdIrJK"
      },
      "source": [
        "We pass along `use_fast=True` to the call above to use one of the fast tokenizers (backed by Rust) from the 🤗 Tokenizers library. Those fast tokenizers are available for almost all models, but if you got an error with the previous call, remove that argument."
      ]
    },
    {
      "cell_type": "markdown",
      "metadata": {
        "id": "rowT4iCLIrJK"
      },
      "source": [
        "You can directly call this tokenizer on one sentence or a pair of sentences:"
      ]
    },
    {
      "cell_type": "code",
      "execution_count": null,
      "metadata": {
        "id": "a5hBlsrHIrJL",
        "outputId": "04090d35-da4d-4f0f-dc8f-594a507e2883",
        "colab": {
          "base_uri": "https://localhost:8080/"
        }
      },
      "outputs": [
        {
          "output_type": "execute_result",
          "data": {
            "text/plain": [
              "{'input_ids': [101, 7592, 1010, 2023, 2028, 6251, 999, 102, 1998, 2023, 6251, 3632, 2007, 2009, 1012, 102], 'attention_mask': [1, 1, 1, 1, 1, 1, 1, 1, 1, 1, 1, 1, 1, 1, 1, 1]}"
            ]
          },
          "metadata": {},
          "execution_count": 15
        }
      ],
      "source": [
        "tokenizer(\"Hello, this one sentence!\", \"And this sentence goes with it.\")"
      ]
    },
    {
      "cell_type": "markdown",
      "metadata": {
        "id": "545PP3o8IrJV"
      },
      "source": [
        "## Fine-tuning the model"
      ]
    },
    {
      "cell_type": "markdown",
      "metadata": {
        "id": "FBiW8UpKIrJW"
      },
      "source": [
        "Now that our data is ready, we can download a pretrained base model and fine-tune it. Since all our task is document classification, we use the `AutoModelForSequenceClassification` class. Like with the tokenizer, the `from_pretrained` method will download and cache the model for us. The only thing we have to specify is the number of labels for our problem (which is always 2, except for STS-B which is a regression problem and MNLI where we have 3 labels):"
      ]
    },
    {
      "cell_type": "code",
      "execution_count": null,
      "metadata": {
        "id": "TlqNaB8jIrJW",
        "outputId": "a7c00e0c-75f9-4c59-95bd-5177cf71cc87",
        "colab": {
          "base_uri": "https://localhost:8080/"
        }
      },
      "outputs": [
        {
          "output_type": "stream",
          "name": "stderr",
          "text": [
            "Some weights of DistilBertForSequenceClassification were not initialized from the model checkpoint at distilbert-base-uncased and are newly initialized: ['classifier.bias', 'classifier.weight', 'pre_classifier.weight', 'pre_classifier.bias']\n",
            "You should probably TRAIN this model on a down-stream task to be able to use it for predictions and inference.\n"
          ]
        }
      ],
      "source": [
        "from transformers import AutoModelForSequenceClassification, TrainingArguments, Trainer\n",
        "\n",
        "num_labels = 2\n",
        "model = AutoModelForSequenceClassification.from_pretrained(model_checkpoint, num_labels=num_labels)"
      ]
    },
    {
      "cell_type": "markdown",
      "metadata": {
        "id": "CczA5lJlIrJX"
      },
      "source": [
        "The warning is telling us we are throwing away some weights (the `vocab_transform` and `vocab_layer_norm` layers) and randomly initializing some other (the `pre_classifier` and `classifier` layers). This is absolutely normal in this case, because we are removing the head used to pretrain the model on a masked language modeling objective and replacing it with a new head for which we don't have pretrained weights, so the library warns us we should fine-tune this model before using it for inference, which is exactly what we are going to do."
      ]
    },
    {
      "cell_type": "markdown",
      "metadata": {
        "id": "_N8urzhyIrJY"
      },
      "source": [
        "To instantiate a `Trainer`, we will need to define two more things. The most important is the [`TrainingArguments`](https://huggingface.co/transformers/main_classes/trainer.html#transformers.TrainingArguments), which is a class that contains all the attributes to customize the training. It requires one folder name, which will be used to save the checkpoints of the model, and all other arguments are optional:"
      ]
    },
    {
      "cell_type": "code",
      "source": [
        "metric = evaluate.load(\"accuracy\")"
      ],
      "metadata": {
        "id": "KqWc6nnEni9W"
      },
      "execution_count": null,
      "outputs": []
    },
    {
      "cell_type": "code",
      "execution_count": null,
      "metadata": {
        "id": "Bliy8zgjIrJY"
      },
      "outputs": [],
      "source": [
        "metric_name = \"accuracy\"\n",
        "model_name = model_checkpoint.split(\"/\")[-1]\n",
        "\n",
        "args = TrainingArguments(\n",
        "    f\"{model_name}-finetuned-pneumonia\",\n",
        "    evaluation_strategy = \"epoch\",\n",
        "    save_strategy = \"epoch\",\n",
        "    learning_rate=2e-5,\n",
        "    per_device_train_batch_size=batch_size,\n",
        "    per_device_eval_batch_size=batch_size,\n",
        "    num_train_epochs=5,\n",
        "    weight_decay=0.01,\n",
        "    load_best_model_at_end=True,\n",
        "    metric_for_best_model=metric_name\n",
        ")"
      ]
    },
    {
      "cell_type": "markdown",
      "metadata": {
        "id": "km3pGVdTIrJc"
      },
      "source": [
        "Here we set the evaluation to be done at the end of each epoch, tweak the learning rate, use the `batch_size` defined at the top of the notebook and customize the number of epochs for training, as well as the weight decay. Since the best model might not be the one at the end of training, we ask the `Trainer` to load the best model it saved (according to `metric_name`) at the end of training."
      ]
    },
    {
      "cell_type": "markdown",
      "source": [
        "Before we continue, we need to tokenize (translate into input_ids for training a model)"
      ],
      "metadata": {
        "id": "o8bFJUqYjMyy"
      }
    },
    {
      "cell_type": "code",
      "source": [
        "max_tokens = 512"
      ],
      "metadata": {
        "id": "LiE2DktVl4Fr"
      },
      "execution_count": null,
      "outputs": []
    },
    {
      "cell_type": "code",
      "source": [
        "\n",
        "def tokenize_function(examples):\n",
        "    return tokenizer(examples[\"text\"], padding=True, truncation=True, max_length=max_tokens, add_special_tokens = True)\n"
      ],
      "metadata": {
        "id": "dt74uPnhhtRO"
      },
      "execution_count": null,
      "outputs": []
    },
    {
      "cell_type": "code",
      "source": [
        "tokenized_dataset = dataset.map(tokenize_function, batched=True, num_proc=4, remove_columns=[\"text\"])"
      ],
      "metadata": {
        "colab": {
          "base_uri": "https://localhost:8080/",
          "height": 81,
          "referenced_widgets": [
            "080af39f0e854fa9904014f02ebee93b",
            "d69d592f822a4212b04edf993f1293cc",
            "5165cc6e6f644daeb446f7ba964746f1",
            "6b688577b95a491797e231f6340bb5af",
            "45f255bd64834186b74ccb46270ee249",
            "3a5aa5bab2a142f9a8f9a76125cc0499",
            "0a89b7459f5447e8841b466314ab1050",
            "f79be0f6960543ed9ea9cd885bfb1d48",
            "3caa37172eec4f458f63f31f218d5e96",
            "06f7743465da4da3a69eada093404ccd",
            "a6a1f741c0e147d2a0872374eb0d9246",
            "95708e6da0134cd284636116c9f9c62c",
            "c36cda76c5084737a58d5b34ac69b9b1",
            "1eebd211ba904b62b3e7f6a47c8ea6fe",
            "93d54d3085594c1594469680cb65b462",
            "eb7b4043fbea4707bfd421ab1c58e993",
            "835c7e4ae984483d81bfc970ac6bebd2",
            "8ad730782e9e4df6818c0acf978a745b",
            "c2c5f201f7be4e9993dffd3823bbe241",
            "a9fb48e2027a4ef382092021c8ad1bd2",
            "fed1369517c944ebaaf33e096f5bf022",
            "21875536281448c7810a395adda36907"
          ]
        },
        "id": "QHcJqLTmjb-Y",
        "outputId": "ae093587-343d-46c3-b423-b61e1245d822"
      },
      "execution_count": null,
      "outputs": [
        {
          "output_type": "display_data",
          "data": {
            "text/plain": [
              "Map (num_proc=4):   0%|          | 0/140 [00:00<?, ? examples/s]"
            ],
            "application/vnd.jupyter.widget-view+json": {
              "version_major": 2,
              "version_minor": 0,
              "model_id": "080af39f0e854fa9904014f02ebee93b"
            }
          },
          "metadata": {}
        },
        {
          "output_type": "display_data",
          "data": {
            "text/plain": [
              "Map (num_proc=4):   0%|          | 0/60 [00:00<?, ? examples/s]"
            ],
            "application/vnd.jupyter.widget-view+json": {
              "version_major": 2,
              "version_minor": 0,
              "model_id": "95708e6da0134cd284636116c9f9c62c"
            }
          },
          "metadata": {}
        }
      ]
    },
    {
      "cell_type": "code",
      "source": [
        "def compute_metrics(pred):\n",
        "    labels = pred.label_ids\n",
        "    preds = pred.predictions.argmax(-1)\n",
        "\n",
        "    # Calculate accuracy\n",
        "    accuracy = accuracy_score(labels, preds)\n",
        "\n",
        "   # Calculate precision, recall, and F1-score\n",
        "    precision = precision_score(labels, preds, average='weighted')\n",
        "    recall = recall_score(labels, preds, average='weighted')\n",
        "    f1 = f1_score(labels, preds, average='weighted')\n",
        "\n",
        "    return {\n",
        "        'accuracy': accuracy,\n",
        "        'precision': precision,\n",
        "        'recall': recall,\n",
        "        'f1': f1\n",
        "    }"
      ],
      "metadata": {
        "id": "jSGPxzUHmu_6"
      },
      "execution_count": null,
      "outputs": []
    },
    {
      "cell_type": "markdown",
      "metadata": {
        "id": "rXuFTAzDIrJe"
      },
      "source": [
        "Then we just need to pass all of this along with our datasets to the `Trainer`:"
      ]
    },
    {
      "cell_type": "code",
      "execution_count": null,
      "metadata": {
        "id": "imY1oC3SIrJf"
      },
      "outputs": [],
      "source": [
        "trainer = Trainer(\n",
        "    model,\n",
        "    args,\n",
        "    train_dataset=tokenized_dataset[\"train\"],\n",
        "    eval_dataset=tokenized_dataset[\"test\"],\n",
        "    tokenizer=tokenizer,\n",
        "    compute_metrics = compute_metrics\n",
        ")"
      ]
    },
    {
      "cell_type": "markdown",
      "metadata": {
        "id": "ibWGmvxbIrJg"
      },
      "source": [
        "You might wonder why we pass along the `tokenizer` when we already preprocessed our data. This is because we will use it once last time to make all the samples we gather the same length by applying padding, which requires knowing the model's preferences regarding padding (to the left or right? with which token?). The `tokenizer` has a pad method that will do all of this right for us, and the `Trainer` will use it. You can customize this part by defining and passing your own `data_collator` which will receive the samples like the dictionaries seen above and will need to return a dictionary of tensors."
      ]
    },
    {
      "cell_type": "markdown",
      "metadata": {
        "id": "CdzABDVcIrJg"
      },
      "source": [
        "We can now finetune our model by just calling the `train` method:"
      ]
    },
    {
      "cell_type": "code",
      "execution_count": null,
      "metadata": {
        "id": "uNx5pyRlIrJh",
        "colab": {
          "base_uri": "https://localhost:8080/",
          "height": 1000
        },
        "outputId": "db06dac9-9514-400b-cc8f-ff8535142915"
      },
      "outputs": [
        {
          "metadata": {
            "tags": null
          },
          "name": "stderr",
          "output_type": "stream",
          "text": [
            "You're using a DistilBertTokenizerFast tokenizer. Please note that with a fast tokenizer, using the `__call__` method is faster than using a method to encode the text followed by a call to the `pad` method to get a padded encoding.\n"
          ]
        },
        {
          "data": {
            "text/html": [
              "\n",
              "    <div>\n",
              "      \n",
              "      <progress value='64' max='225' style='width:300px; height:20px; vertical-align: middle;'></progress>\n",
              "      [ 64/225 01:24 < 03:39, 0.73 it/s, Epoch 7/25]\n",
              "    </div>\n",
              "    <table border=\"1\" class=\"dataframe\">\n",
              "  <thead>\n",
              " <tr style=\"text-align: left;\">\n",
              "      <th>Epoch</th>\n",
              "      <th>Training Loss</th>\n",
              "      <th>Validation Loss</th>\n",
              "      <th>Accuracy</th>\n",
              "      <th>Precision</th>\n",
              "      <th>Recall</th>\n",
              "      <th>F1</th>\n",
              "    </tr>\n",
              "  </thead>\n",
              "  <tbody>\n",
              "    <tr>\n",
              "      <td>1</td>\n",
              "      <td>No log</td>\n",
              "      <td>0.600309</td>\n",
              "      <td>0.716667</td>\n",
              "      <td>0.513611</td>\n",
              "      <td>0.716667</td>\n",
              "      <td>0.598382</td>\n",
              "    </tr>\n",
              "    <tr>\n",
              "      <td>2</td>\n",
              "      <td>No log</td>\n",
              "      <td>0.596914</td>\n",
              "      <td>0.716667</td>\n",
              "      <td>0.513611</td>\n",
              "      <td>0.716667</td>\n",
              "      <td>0.598382</td>\n",
              "    </tr>\n",
              "    <tr>\n",
              "      <td>3</td>\n",
              "      <td>No log</td>\n",
              "      <td>0.586105</td>\n",
              "      <td>0.716667</td>\n",
              "      <td>0.513611</td>\n",
              "      <td>0.716667</td>\n",
              "      <td>0.598382</td>\n",
              "    </tr>\n",
              "    <tr>\n",
              "      <td>4</td>\n",
              "      <td>No log</td>\n",
              "      <td>0.585361</td>\n",
              "      <td>0.716667</td>\n",
              "      <td>0.513611</td>\n",
              "      <td>0.716667</td>\n",
              "      <td>0.598382</td>\n",
              "    </tr>\n",
              "    <tr>\n",
              "      <td>5</td>\n",
              "      <td>No log</td>\n",
              "      <td>0.610571</td>\n",
              "      <td>0.716667</td>\n",
              "      <td>0.513611</td>\n",
              "      <td>0.716667</td>\n",
              "      <td>0.598382</td>\n",
              "    </tr>\n",
              "    <tr>\n",
              "      <td>6</td>\n",
              "      <td>No log</td>\n",
              "      <td>0.606131</td>\n",
              "      <td>0.716667</td>\n",
              "      <td>0.513611</td>\n",
              "      <td>0.716667</td>\n",
              "      <td>0.598382</td>\n",
              "    </tr>\n",
              "  </tbody>\n",
              "</table><p>"
            ],
            "text/plain": [
              "<IPython.core.display.HTML object>"
            ]
          },
          "metadata": {},
          "output_type": "display_data"
        },
        {
          "metadata": {
            "tags": null
          },
          "name": "stderr",
          "output_type": "stream",
          "text": [
            "/usr/local/lib/python3.10/dist-packages/sklearn/metrics/_classification.py:1344: UndefinedMetricWarning: Precision is ill-defined and being set to 0.0 in labels with no predicted samples. Use `zero_division` parameter to control this behavior.\n",
            "  _warn_prf(average, modifier, msg_start, len(result))\n",
            "/usr/local/lib/python3.10/dist-packages/sklearn/metrics/_classification.py:1344: UndefinedMetricWarning: Precision is ill-defined and being set to 0.0 in labels with no predicted samples. Use `zero_division` parameter to control this behavior.\n",
            "  _warn_prf(average, modifier, msg_start, len(result))\n",
            "/usr/local/lib/python3.10/dist-packages/sklearn/metrics/_classification.py:1344: UndefinedMetricWarning: Precision is ill-defined and being set to 0.0 in labels with no predicted samples. Use `zero_division` parameter to control this behavior.\n",
            "  _warn_prf(average, modifier, msg_start, len(result))\n",
            "/usr/local/lib/python3.10/dist-packages/sklearn/metrics/_classification.py:1344: UndefinedMetricWarning: Precision is ill-defined and being set to 0.0 in labels with no predicted samples. Use `zero_division` parameter to control this behavior.\n",
            "  _warn_prf(average, modifier, msg_start, len(result))\n",
            "/usr/local/lib/python3.10/dist-packages/sklearn/metrics/_classification.py:1344: UndefinedMetricWarning: Precision is ill-defined and being set to 0.0 in labels with no predicted samples. Use `zero_division` parameter to control this behavior.\n",
            "  _warn_prf(average, modifier, msg_start, len(result))\n",
            "/usr/local/lib/python3.10/dist-packages/sklearn/metrics/_classification.py:1344: UndefinedMetricWarning: Precision is ill-defined and being set to 0.0 in labels with no predicted samples. Use `zero_division` parameter to control this behavior.\n",
            "  _warn_prf(average, modifier, msg_start, len(result))\n"
          ]
        },
        {
          "output_type": "display_data",
          "data": {
            "text/plain": [
              "<IPython.core.display.HTML object>"
            ],
            "text/html": [
              "\n",
              "    <div>\n",
              "      \n",
              "      <progress value='225' max='225' style='width:300px; height:20px; vertical-align: middle;'></progress>\n",
              "      [225/225 04:48, Epoch 25/25]\n",
              "    </div>\n",
              "    <table border=\"1\" class=\"dataframe\">\n",
              "  <thead>\n",
              " <tr style=\"text-align: left;\">\n",
              "      <th>Epoch</th>\n",
              "      <th>Training Loss</th>\n",
              "      <th>Validation Loss</th>\n",
              "      <th>Accuracy</th>\n",
              "      <th>Precision</th>\n",
              "      <th>Recall</th>\n",
              "      <th>F1</th>\n",
              "    </tr>\n",
              "  </thead>\n",
              "  <tbody>\n",
              "    <tr>\n",
              "      <td>1</td>\n",
              "      <td>No log</td>\n",
              "      <td>0.600309</td>\n",
              "      <td>0.716667</td>\n",
              "      <td>0.513611</td>\n",
              "      <td>0.716667</td>\n",
              "      <td>0.598382</td>\n",
              "    </tr>\n",
              "    <tr>\n",
              "      <td>2</td>\n",
              "      <td>No log</td>\n",
              "      <td>0.596914</td>\n",
              "      <td>0.716667</td>\n",
              "      <td>0.513611</td>\n",
              "      <td>0.716667</td>\n",
              "      <td>0.598382</td>\n",
              "    </tr>\n",
              "    <tr>\n",
              "      <td>3</td>\n",
              "      <td>No log</td>\n",
              "      <td>0.586105</td>\n",
              "      <td>0.716667</td>\n",
              "      <td>0.513611</td>\n",
              "      <td>0.716667</td>\n",
              "      <td>0.598382</td>\n",
              "    </tr>\n",
              "    <tr>\n",
              "      <td>4</td>\n",
              "      <td>No log</td>\n",
              "      <td>0.585361</td>\n",
              "      <td>0.716667</td>\n",
              "      <td>0.513611</td>\n",
              "      <td>0.716667</td>\n",
              "      <td>0.598382</td>\n",
              "    </tr>\n",
              "    <tr>\n",
              "      <td>5</td>\n",
              "      <td>No log</td>\n",
              "      <td>0.610571</td>\n",
              "      <td>0.716667</td>\n",
              "      <td>0.513611</td>\n",
              "      <td>0.716667</td>\n",
              "      <td>0.598382</td>\n",
              "    </tr>\n",
              "    <tr>\n",
              "      <td>6</td>\n",
              "      <td>No log</td>\n",
              "      <td>0.606131</td>\n",
              "      <td>0.716667</td>\n",
              "      <td>0.513611</td>\n",
              "      <td>0.716667</td>\n",
              "      <td>0.598382</td>\n",
              "    </tr>\n",
              "    <tr>\n",
              "      <td>7</td>\n",
              "      <td>No log</td>\n",
              "      <td>0.653789</td>\n",
              "      <td>0.716667</td>\n",
              "      <td>0.513611</td>\n",
              "      <td>0.716667</td>\n",
              "      <td>0.598382</td>\n",
              "    </tr>\n",
              "    <tr>\n",
              "      <td>8</td>\n",
              "      <td>No log</td>\n",
              "      <td>0.677907</td>\n",
              "      <td>0.733333</td>\n",
              "      <td>0.805650</td>\n",
              "      <td>0.733333</td>\n",
              "      <td>0.635730</td>\n",
              "    </tr>\n",
              "    <tr>\n",
              "      <td>9</td>\n",
              "      <td>No log</td>\n",
              "      <td>0.690694</td>\n",
              "      <td>0.733333</td>\n",
              "      <td>0.704242</td>\n",
              "      <td>0.733333</td>\n",
              "      <td>0.676933</td>\n",
              "    </tr>\n",
              "    <tr>\n",
              "      <td>10</td>\n",
              "      <td>No log</td>\n",
              "      <td>0.741520</td>\n",
              "      <td>0.716667</td>\n",
              "      <td>0.672531</td>\n",
              "      <td>0.716667</td>\n",
              "      <td>0.664978</td>\n",
              "    </tr>\n",
              "    <tr>\n",
              "      <td>11</td>\n",
              "      <td>No log</td>\n",
              "      <td>0.741357</td>\n",
              "      <td>0.550000</td>\n",
              "      <td>0.628571</td>\n",
              "      <td>0.550000</td>\n",
              "      <td>0.572000</td>\n",
              "    </tr>\n",
              "    <tr>\n",
              "      <td>12</td>\n",
              "      <td>No log</td>\n",
              "      <td>0.854163</td>\n",
              "      <td>0.733333</td>\n",
              "      <td>0.704242</td>\n",
              "      <td>0.733333</td>\n",
              "      <td>0.676933</td>\n",
              "    </tr>\n",
              "    <tr>\n",
              "      <td>13</td>\n",
              "      <td>No log</td>\n",
              "      <td>0.778164</td>\n",
              "      <td>0.666667</td>\n",
              "      <td>0.666667</td>\n",
              "      <td>0.666667</td>\n",
              "      <td>0.666667</td>\n",
              "    </tr>\n",
              "    <tr>\n",
              "      <td>14</td>\n",
              "      <td>No log</td>\n",
              "      <td>0.886335</td>\n",
              "      <td>0.616667</td>\n",
              "      <td>0.663657</td>\n",
              "      <td>0.616667</td>\n",
              "      <td>0.632407</td>\n",
              "    </tr>\n",
              "    <tr>\n",
              "      <td>15</td>\n",
              "      <td>No log</td>\n",
              "      <td>0.928404</td>\n",
              "      <td>0.683333</td>\n",
              "      <td>0.677746</td>\n",
              "      <td>0.683333</td>\n",
              "      <td>0.680355</td>\n",
              "    </tr>\n",
              "    <tr>\n",
              "      <td>16</td>\n",
              "      <td>No log</td>\n",
              "      <td>1.019478</td>\n",
              "      <td>0.683333</td>\n",
              "      <td>0.677746</td>\n",
              "      <td>0.683333</td>\n",
              "      <td>0.680355</td>\n",
              "    </tr>\n",
              "    <tr>\n",
              "      <td>17</td>\n",
              "      <td>No log</td>\n",
              "      <td>1.273820</td>\n",
              "      <td>0.583333</td>\n",
              "      <td>0.631944</td>\n",
              "      <td>0.583333</td>\n",
              "      <td>0.600443</td>\n",
              "    </tr>\n",
              "    <tr>\n",
              "      <td>18</td>\n",
              "      <td>No log</td>\n",
              "      <td>1.159507</td>\n",
              "      <td>0.700000</td>\n",
              "      <td>0.659913</td>\n",
              "      <td>0.700000</td>\n",
              "      <td>0.666612</td>\n",
              "    </tr>\n",
              "    <tr>\n",
              "      <td>19</td>\n",
              "      <td>No log</td>\n",
              "      <td>1.573076</td>\n",
              "      <td>0.550000</td>\n",
              "      <td>0.628571</td>\n",
              "      <td>0.550000</td>\n",
              "      <td>0.572000</td>\n",
              "    </tr>\n",
              "    <tr>\n",
              "      <td>20</td>\n",
              "      <td>No log</td>\n",
              "      <td>1.269681</td>\n",
              "      <td>0.683333</td>\n",
              "      <td>0.666718</td>\n",
              "      <td>0.683333</td>\n",
              "      <td>0.673348</td>\n",
              "    </tr>\n",
              "    <tr>\n",
              "      <td>21</td>\n",
              "      <td>No log</td>\n",
              "      <td>1.322837</td>\n",
              "      <td>0.683333</td>\n",
              "      <td>0.677746</td>\n",
              "      <td>0.683333</td>\n",
              "      <td>0.680355</td>\n",
              "    </tr>\n",
              "    <tr>\n",
              "      <td>22</td>\n",
              "      <td>No log</td>\n",
              "      <td>1.384460</td>\n",
              "      <td>0.650000</td>\n",
              "      <td>0.656217</td>\n",
              "      <td>0.650000</td>\n",
              "      <td>0.652941</td>\n",
              "    </tr>\n",
              "    <tr>\n",
              "      <td>23</td>\n",
              "      <td>No log</td>\n",
              "      <td>1.398065</td>\n",
              "      <td>0.650000</td>\n",
              "      <td>0.656217</td>\n",
              "      <td>0.650000</td>\n",
              "      <td>0.652941</td>\n",
              "    </tr>\n",
              "    <tr>\n",
              "      <td>24</td>\n",
              "      <td>No log</td>\n",
              "      <td>1.393550</td>\n",
              "      <td>0.666667</td>\n",
              "      <td>0.666667</td>\n",
              "      <td>0.666667</td>\n",
              "      <td>0.666667</td>\n",
              "    </tr>\n",
              "    <tr>\n",
              "      <td>25</td>\n",
              "      <td>No log</td>\n",
              "      <td>1.381815</td>\n",
              "      <td>0.683333</td>\n",
              "      <td>0.677746</td>\n",
              "      <td>0.683333</td>\n",
              "      <td>0.680355</td>\n",
              "    </tr>\n",
              "  </tbody>\n",
              "</table><p>"
            ]
          },
          "metadata": {}
        },
        {
          "output_type": "stream",
          "name": "stderr",
          "text": [
            "/usr/local/lib/python3.10/dist-packages/sklearn/metrics/_classification.py:1344: UndefinedMetricWarning: Precision is ill-defined and being set to 0.0 in labels with no predicted samples. Use `zero_division` parameter to control this behavior.\n",
            "  _warn_prf(average, modifier, msg_start, len(result))\n"
          ]
        },
        {
          "output_type": "execute_result",
          "data": {
            "text/plain": [
              "TrainOutput(global_step=225, training_loss=0.2414657253689236, metrics={'train_runtime': 291.6232, 'train_samples_per_second': 12.002, 'train_steps_per_second': 0.772, 'total_flos': 463635895296000.0, 'train_loss': 0.2414657253689236, 'epoch': 25.0})"
            ]
          },
          "metadata": {},
          "execution_count": 24
        }
      ],
      "source": [
        "trainer.train()"
      ]
    },
    {
      "cell_type": "markdown",
      "metadata": {
        "id": "CKASz-2vIrJi"
      },
      "source": [
        "We can check with the `evaluate` method that our `Trainer` did reload the best model properly (if it was not the last one):"
      ]
    },
    {
      "cell_type": "code",
      "execution_count": null,
      "metadata": {
        "id": "UOUcBkX8IrJi",
        "colab": {
          "base_uri": "https://localhost:8080/",
          "height": 193
        },
        "outputId": "ac0e59ef-3915-4baa-a137-52a0a36ecc9a"
      },
      "outputs": [
        {
          "output_type": "display_data",
          "data": {
            "text/plain": [
              "<IPython.core.display.HTML object>"
            ],
            "text/html": [
              "\n",
              "    <div>\n",
              "      \n",
              "      <progress value='4' max='4' style='width:300px; height:20px; vertical-align: middle;'></progress>\n",
              "      [4/4 00:00]\n",
              "    </div>\n",
              "    "
            ]
          },
          "metadata": {}
        },
        {
          "output_type": "execute_result",
          "data": {
            "text/plain": [
              "{'eval_loss': 0.6779069900512695,\n",
              " 'eval_accuracy': 0.7333333333333333,\n",
              " 'eval_precision': 0.8056497175141243,\n",
              " 'eval_recall': 0.7333333333333333,\n",
              " 'eval_f1': 0.6357298474945534,\n",
              " 'eval_runtime': 1.0786,\n",
              " 'eval_samples_per_second': 55.628,\n",
              " 'eval_steps_per_second': 3.709,\n",
              " 'epoch': 25.0}"
            ]
          },
          "metadata": {},
          "execution_count": 25
        }
      ],
      "source": [
        "trainer.evaluate()"
      ]
    },
    {
      "cell_type": "code",
      "source": [],
      "metadata": {
        "id": "Y3WGt61eoTRT"
      },
      "execution_count": null,
      "outputs": []
    },
    {
      "cell_type": "markdown",
      "source": [
        "# OK, let's consider that to be a baseline model, in this next section, we'll work in small groups or individuals.  The goal is for each person to explore various hyperparameters that you might want to change.  \n",
        "\n",
        "## We'll do this manually today (which takes time) but it will be a good way to learn and think about these parameters.  In practice, you will likely use a package or strategy for automated hyperparameter search.  For example, these hyperparameters could be:\n",
        "1. Different base model (not the one used above)\n",
        "2. Number of epochs (iterations through the dataset)\n",
        "3. Learning rate\n",
        "4. Weight decay\n",
        "5. Plus many more..."
      ],
      "metadata": {
        "id": "kIiKWERl4LpO"
      }
    },
    {
      "cell_type": "code",
      "source": [
        "# create your own new TrainingArguments here\n",
        "\n",
        "learning_rate_part_2 = None\n",
        "#learning_rate_part_2 = 2e-5\n",
        "#learning_rate_part_2 = 2e-4\n",
        "#learning_rate_part_2 = 2e-3\n",
        "#learning_rate_part_2 = 2e-2\n",
        "\n",
        "batch_size_part_2 = None\n",
        "#batch_size_part_2 = 2\n",
        "#batch_size_part_2 = 4\n",
        "#batch_size_part_2 = 8\n",
        "#batch_size_part_2 = 16\n",
        "#batch_size_part_2 = 32\n",
        "\n",
        "num_train_epochs_part_2 = None\n",
        "#num_train_epochs_part_2 = 1\n",
        "#num_train_epochs_part_2 = 2\n",
        "#num_train_epochs_part_2 = 3\n",
        "#num_train_epochs_part_2 = 5\n",
        "#num_train_epochs_part_2 = 10\n",
        "#num_train_epochs_part_2 = 15\n",
        "#num_train_epochs_part_2 = 20\n",
        "#num_train_epochs_part_2 = 25\n",
        "\n",
        "weight_decay_part_2 = None\n",
        "#weight_decay_part_2 = 0.5\n",
        "#weight_decay_part_2 = 0.1\n",
        "#weight_decay_part_2 = 0.01\n",
        "#weight_decay_part_2 = 0.001\n",
        "#weight_decay_part_2 = 0.0001\n",
        "\n",
        "args_part_2 = TrainingArguments(\n",
        "    f\"{model_name}-finetuned-pneumonia-part-2\",\n",
        "    evaluation_strategy = \"epoch\",\n",
        "    save_strategy = \"epoch\",\n",
        "    learning_rate=learning_rate_part_2,\n",
        "    per_device_train_batch_size=batch_size_part_2,\n",
        "    per_device_eval_batch_size=batch_size_part_2,\n",
        "    num_train_epochs=num_train_epochs_part_2,\n",
        "    weight_decay_part_2=weight_decay_part_2,\n",
        "    load_best_model_at_end=True,\n",
        "    metric_for_best_model=metric_name\n",
        ")"
      ],
      "metadata": {
        "id": "_e-GS6WP4s_1"
      },
      "execution_count": null,
      "outputs": []
    },
    {
      "cell_type": "markdown",
      "source": [
        "## Some of you might want to experiment with different base models (maybe something trained on clinical documnets, or medical research).  If you do, make sure that you use a tokenizer which is compatible with your model.  Then if you change this, make sure to retokenize again below"
      ],
      "metadata": {
        "id": "K4TSt7sg7YMc"
      }
    },
    {
      "cell_type": "code",
      "source": [
        "def tokenize_function_part_2(examples):\n",
        "    return tokenizer_part_2(examples[\"text\"], padding=True, truncation=True, max_length=max_tokens_part_2, add_special_tokens = True)"
      ],
      "metadata": {
        "id": "FEYiQiGZ63Db"
      },
      "execution_count": null,
      "outputs": []
    },
    {
      "cell_type": "code",
      "source": [
        "# Here you select what you want for your base model.  There are many more\n",
        "# models for you to evaluate here\n",
        "#\n",
        "model_name_part_2 = None\n",
        "# You could re-use the model we used above...\n",
        "#model_name_part_2 = \"distilbert-base-uncased\"\n",
        "\n",
        "model_part_2 = AutoModelForSequenceClassification.from_pretrained(model_name_part_2, num_labels=num_labels)\n",
        "\n",
        "max_tokens_part_2 = None\n",
        "#max_tokens_part_2 = 512\n",
        "\n",
        "tokenizer_part_2 = None\n",
        "\n",
        "# if you use a tokenizer here which is different from above, note that you must tokenize again\n",
        "# Each model must align with its tokenizer.  Otherwise, the matrices are all off\n",
        "# (e.g., different widths for token vectors, final vectors, etc...)\n",
        "\n",
        "# make sure to tokenize using the tokenizer you've selected for part 2 here\n",
        "tokenized_dataset_part_2 = dataset.map(tokenize_function_part_2, batched=True, num_proc=4, remove_columns=[\"text\"])\n",
        "\n",
        "trainer_part_2 = Trainer(\n",
        "    model_part_2,\n",
        "    args_part_2,\n",
        "    train_dataset=tokenized_dataset[\"train\"],\n",
        "    eval_dataset=tokenized_dataset[\"test\"],\n",
        "    tokenizer=tokenizer_part_2,\n",
        "    compute_metrics = compute_metrics\n",
        ")"
      ],
      "metadata": {
        "id": "DLW8GFMQ6ajt"
      },
      "execution_count": null,
      "outputs": []
    }
  ],
  "metadata": {
    "colab": {
      "provenance": [],
      "gpuType": "T4"
    },
    "kernelspec": {
      "display_name": "Python 3",
      "name": "python3"
    },
    "language_info": {
      "codemirror_mode": {
        "name": "ipython",
        "version": 3
      },
      "file_extension": ".py",
      "mimetype": "text/x-python",
      "name": "python",
      "nbconvert_exporter": "python",
      "pygments_lexer": "ipython3",
      "version": "3.10.8"
    },
    "widgets": {
      "application/vnd.jupyter.widget-state+json": {
        "44a1bb1740d64362930f9f9b8e026602": {
          "model_module": "@jupyter-widgets/controls",
          "model_name": "VBoxModel",
          "model_module_version": "1.5.0",
          "state": {
            "_dom_classes": [],
            "_model_module": "@jupyter-widgets/controls",
            "_model_module_version": "1.5.0",
            "_model_name": "VBoxModel",
            "_view_count": null,
            "_view_module": "@jupyter-widgets/controls",
            "_view_module_version": "1.5.0",
            "_view_name": "VBoxView",
            "box_style": "",
            "children": [
              "IPY_MODEL_ccda97ad6f19483b92c7c53e04c5ef0e",
              "IPY_MODEL_c38f8a24558e4ea6af07e3635af48b15",
              "IPY_MODEL_0a16ea30083c4d59b7ae26c2edb316c7",
              "IPY_MODEL_32629fc3ac2a441c941dcbb5847acd00",
              "IPY_MODEL_44be8fc055b8442f8ac4f0d5516e9ac6"
            ],
            "layout": "IPY_MODEL_ce319a0be377465b95bc8587e71abc0b"
          }
        },
        "ccda97ad6f19483b92c7c53e04c5ef0e": {
          "model_module": "@jupyter-widgets/controls",
          "model_name": "HTMLModel",
          "model_module_version": "1.5.0",
          "state": {
            "_dom_classes": [],
            "_model_module": "@jupyter-widgets/controls",
            "_model_module_version": "1.5.0",
            "_model_name": "HTMLModel",
            "_view_count": null,
            "_view_module": "@jupyter-widgets/controls",
            "_view_module_version": "1.5.0",
            "_view_name": "HTMLView",
            "description": "",
            "description_tooltip": null,
            "layout": "IPY_MODEL_f6838fc74f3c4ab19ece73793da8f892",
            "placeholder": "​",
            "style": "IPY_MODEL_8f5d3fd6f06045a490fdb5ffecd5ea33",
            "value": "<center> <img\nsrc=https://huggingface.co/front/assets/huggingface_logo-noborder.svg\nalt='Hugging Face'> <br> Copy a token from <a\nhref=\"https://huggingface.co/settings/tokens\" target=\"_blank\">your Hugging Face\ntokens page</a> and paste it below. <br> Immediately click login after copying\nyour token or it might be stored in plain text in this notebook file. </center>"
          }
        },
        "c38f8a24558e4ea6af07e3635af48b15": {
          "model_module": "@jupyter-widgets/controls",
          "model_name": "PasswordModel",
          "model_module_version": "1.5.0",
          "state": {
            "_dom_classes": [],
            "_model_module": "@jupyter-widgets/controls",
            "_model_module_version": "1.5.0",
            "_model_name": "PasswordModel",
            "_view_count": null,
            "_view_module": "@jupyter-widgets/controls",
            "_view_module_version": "1.5.0",
            "_view_name": "PasswordView",
            "continuous_update": true,
            "description": "Token:",
            "description_tooltip": null,
            "disabled": false,
            "layout": "IPY_MODEL_5690d2ea0a9948f4a8d6605808523040",
            "placeholder": "​",
            "style": "IPY_MODEL_7a9770040a904bb6aa9fea7d448870f3",
            "value": ""
          }
        },
        "0a16ea30083c4d59b7ae26c2edb316c7": {
          "model_module": "@jupyter-widgets/controls",
          "model_name": "CheckboxModel",
          "model_module_version": "1.5.0",
          "state": {
            "_dom_classes": [],
            "_model_module": "@jupyter-widgets/controls",
            "_model_module_version": "1.5.0",
            "_model_name": "CheckboxModel",
            "_view_count": null,
            "_view_module": "@jupyter-widgets/controls",
            "_view_module_version": "1.5.0",
            "_view_name": "CheckboxView",
            "description": "Add token as git credential?",
            "description_tooltip": null,
            "disabled": false,
            "indent": true,
            "layout": "IPY_MODEL_139215b3d81a4cf1b724596aa6b8ee87",
            "style": "IPY_MODEL_954375c80392445dae4401e2060b990d",
            "value": true
          }
        },
        "32629fc3ac2a441c941dcbb5847acd00": {
          "model_module": "@jupyter-widgets/controls",
          "model_name": "ButtonModel",
          "model_module_version": "1.5.0",
          "state": {
            "_dom_classes": [],
            "_model_module": "@jupyter-widgets/controls",
            "_model_module_version": "1.5.0",
            "_model_name": "ButtonModel",
            "_view_count": null,
            "_view_module": "@jupyter-widgets/controls",
            "_view_module_version": "1.5.0",
            "_view_name": "ButtonView",
            "button_style": "",
            "description": "Login",
            "disabled": false,
            "icon": "",
            "layout": "IPY_MODEL_e5b5d9bfd83d43b5905375b8d27fe675",
            "style": "IPY_MODEL_85377ae6bcdf4fac987add80f23407f0",
            "tooltip": ""
          }
        },
        "44be8fc055b8442f8ac4f0d5516e9ac6": {
          "model_module": "@jupyter-widgets/controls",
          "model_name": "HTMLModel",
          "model_module_version": "1.5.0",
          "state": {
            "_dom_classes": [],
            "_model_module": "@jupyter-widgets/controls",
            "_model_module_version": "1.5.0",
            "_model_name": "HTMLModel",
            "_view_count": null,
            "_view_module": "@jupyter-widgets/controls",
            "_view_module_version": "1.5.0",
            "_view_name": "HTMLView",
            "description": "",
            "description_tooltip": null,
            "layout": "IPY_MODEL_69bab5596034421581f88c36b4fa0597",
            "placeholder": "​",
            "style": "IPY_MODEL_41a62b0142cd4c5ba49dd02b310abca7",
            "value": "\n<b>Pro Tip:</b> If you don't already have one, you can create a dedicated\n'notebooks' token with 'write' access, that you can then easily reuse for all\nnotebooks. </center>"
          }
        },
        "ce319a0be377465b95bc8587e71abc0b": {
          "model_module": "@jupyter-widgets/base",
          "model_name": "LayoutModel",
          "model_module_version": "1.2.0",
          "state": {
            "_model_module": "@jupyter-widgets/base",
            "_model_module_version": "1.2.0",
            "_model_name": "LayoutModel",
            "_view_count": null,
            "_view_module": "@jupyter-widgets/base",
            "_view_module_version": "1.2.0",
            "_view_name": "LayoutView",
            "align_content": null,
            "align_items": "center",
            "align_self": null,
            "border": null,
            "bottom": null,
            "display": "flex",
            "flex": null,
            "flex_flow": "column",
            "grid_area": null,
            "grid_auto_columns": null,
            "grid_auto_flow": null,
            "grid_auto_rows": null,
            "grid_column": null,
            "grid_gap": null,
            "grid_row": null,
            "grid_template_areas": null,
            "grid_template_columns": null,
            "grid_template_rows": null,
            "height": null,
            "justify_content": null,
            "justify_items": null,
            "left": null,
            "margin": null,
            "max_height": null,
            "max_width": null,
            "min_height": null,
            "min_width": null,
            "object_fit": null,
            "object_position": null,
            "order": null,
            "overflow": null,
            "overflow_x": null,
            "overflow_y": null,
            "padding": null,
            "right": null,
            "top": null,
            "visibility": null,
            "width": "50%"
          }
        },
        "f6838fc74f3c4ab19ece73793da8f892": {
          "model_module": "@jupyter-widgets/base",
          "model_name": "LayoutModel",
          "model_module_version": "1.2.0",
          "state": {
            "_model_module": "@jupyter-widgets/base",
            "_model_module_version": "1.2.0",
            "_model_name": "LayoutModel",
            "_view_count": null,
            "_view_module": "@jupyter-widgets/base",
            "_view_module_version": "1.2.0",
            "_view_name": "LayoutView",
            "align_content": null,
            "align_items": null,
            "align_self": null,
            "border": null,
            "bottom": null,
            "display": null,
            "flex": null,
            "flex_flow": null,
            "grid_area": null,
            "grid_auto_columns": null,
            "grid_auto_flow": null,
            "grid_auto_rows": null,
            "grid_column": null,
            "grid_gap": null,
            "grid_row": null,
            "grid_template_areas": null,
            "grid_template_columns": null,
            "grid_template_rows": null,
            "height": null,
            "justify_content": null,
            "justify_items": null,
            "left": null,
            "margin": null,
            "max_height": null,
            "max_width": null,
            "min_height": null,
            "min_width": null,
            "object_fit": null,
            "object_position": null,
            "order": null,
            "overflow": null,
            "overflow_x": null,
            "overflow_y": null,
            "padding": null,
            "right": null,
            "top": null,
            "visibility": null,
            "width": null
          }
        },
        "8f5d3fd6f06045a490fdb5ffecd5ea33": {
          "model_module": "@jupyter-widgets/controls",
          "model_name": "DescriptionStyleModel",
          "model_module_version": "1.5.0",
          "state": {
            "_model_module": "@jupyter-widgets/controls",
            "_model_module_version": "1.5.0",
            "_model_name": "DescriptionStyleModel",
            "_view_count": null,
            "_view_module": "@jupyter-widgets/base",
            "_view_module_version": "1.2.0",
            "_view_name": "StyleView",
            "description_width": ""
          }
        },
        "5690d2ea0a9948f4a8d6605808523040": {
          "model_module": "@jupyter-widgets/base",
          "model_name": "LayoutModel",
          "model_module_version": "1.2.0",
          "state": {
            "_model_module": "@jupyter-widgets/base",
            "_model_module_version": "1.2.0",
            "_model_name": "LayoutModel",
            "_view_count": null,
            "_view_module": "@jupyter-widgets/base",
            "_view_module_version": "1.2.0",
            "_view_name": "LayoutView",
            "align_content": null,
            "align_items": null,
            "align_self": null,
            "border": null,
            "bottom": null,
            "display": null,
            "flex": null,
            "flex_flow": null,
            "grid_area": null,
            "grid_auto_columns": null,
            "grid_auto_flow": null,
            "grid_auto_rows": null,
            "grid_column": null,
            "grid_gap": null,
            "grid_row": null,
            "grid_template_areas": null,
            "grid_template_columns": null,
            "grid_template_rows": null,
            "height": null,
            "justify_content": null,
            "justify_items": null,
            "left": null,
            "margin": null,
            "max_height": null,
            "max_width": null,
            "min_height": null,
            "min_width": null,
            "object_fit": null,
            "object_position": null,
            "order": null,
            "overflow": null,
            "overflow_x": null,
            "overflow_y": null,
            "padding": null,
            "right": null,
            "top": null,
            "visibility": null,
            "width": null
          }
        },
        "7a9770040a904bb6aa9fea7d448870f3": {
          "model_module": "@jupyter-widgets/controls",
          "model_name": "DescriptionStyleModel",
          "model_module_version": "1.5.0",
          "state": {
            "_model_module": "@jupyter-widgets/controls",
            "_model_module_version": "1.5.0",
            "_model_name": "DescriptionStyleModel",
            "_view_count": null,
            "_view_module": "@jupyter-widgets/base",
            "_view_module_version": "1.2.0",
            "_view_name": "StyleView",
            "description_width": ""
          }
        },
        "139215b3d81a4cf1b724596aa6b8ee87": {
          "model_module": "@jupyter-widgets/base",
          "model_name": "LayoutModel",
          "model_module_version": "1.2.0",
          "state": {
            "_model_module": "@jupyter-widgets/base",
            "_model_module_version": "1.2.0",
            "_model_name": "LayoutModel",
            "_view_count": null,
            "_view_module": "@jupyter-widgets/base",
            "_view_module_version": "1.2.0",
            "_view_name": "LayoutView",
            "align_content": null,
            "align_items": null,
            "align_self": null,
            "border": null,
            "bottom": null,
            "display": null,
            "flex": null,
            "flex_flow": null,
            "grid_area": null,
            "grid_auto_columns": null,
            "grid_auto_flow": null,
            "grid_auto_rows": null,
            "grid_column": null,
            "grid_gap": null,
            "grid_row": null,
            "grid_template_areas": null,
            "grid_template_columns": null,
            "grid_template_rows": null,
            "height": null,
            "justify_content": null,
            "justify_items": null,
            "left": null,
            "margin": null,
            "max_height": null,
            "max_width": null,
            "min_height": null,
            "min_width": null,
            "object_fit": null,
            "object_position": null,
            "order": null,
            "overflow": null,
            "overflow_x": null,
            "overflow_y": null,
            "padding": null,
            "right": null,
            "top": null,
            "visibility": null,
            "width": null
          }
        },
        "954375c80392445dae4401e2060b990d": {
          "model_module": "@jupyter-widgets/controls",
          "model_name": "DescriptionStyleModel",
          "model_module_version": "1.5.0",
          "state": {
            "_model_module": "@jupyter-widgets/controls",
            "_model_module_version": "1.5.0",
            "_model_name": "DescriptionStyleModel",
            "_view_count": null,
            "_view_module": "@jupyter-widgets/base",
            "_view_module_version": "1.2.0",
            "_view_name": "StyleView",
            "description_width": ""
          }
        },
        "e5b5d9bfd83d43b5905375b8d27fe675": {
          "model_module": "@jupyter-widgets/base",
          "model_name": "LayoutModel",
          "model_module_version": "1.2.0",
          "state": {
            "_model_module": "@jupyter-widgets/base",
            "_model_module_version": "1.2.0",
            "_model_name": "LayoutModel",
            "_view_count": null,
            "_view_module": "@jupyter-widgets/base",
            "_view_module_version": "1.2.0",
            "_view_name": "LayoutView",
            "align_content": null,
            "align_items": null,
            "align_self": null,
            "border": null,
            "bottom": null,
            "display": null,
            "flex": null,
            "flex_flow": null,
            "grid_area": null,
            "grid_auto_columns": null,
            "grid_auto_flow": null,
            "grid_auto_rows": null,
            "grid_column": null,
            "grid_gap": null,
            "grid_row": null,
            "grid_template_areas": null,
            "grid_template_columns": null,
            "grid_template_rows": null,
            "height": null,
            "justify_content": null,
            "justify_items": null,
            "left": null,
            "margin": null,
            "max_height": null,
            "max_width": null,
            "min_height": null,
            "min_width": null,
            "object_fit": null,
            "object_position": null,
            "order": null,
            "overflow": null,
            "overflow_x": null,
            "overflow_y": null,
            "padding": null,
            "right": null,
            "top": null,
            "visibility": null,
            "width": null
          }
        },
        "85377ae6bcdf4fac987add80f23407f0": {
          "model_module": "@jupyter-widgets/controls",
          "model_name": "ButtonStyleModel",
          "model_module_version": "1.5.0",
          "state": {
            "_model_module": "@jupyter-widgets/controls",
            "_model_module_version": "1.5.0",
            "_model_name": "ButtonStyleModel",
            "_view_count": null,
            "_view_module": "@jupyter-widgets/base",
            "_view_module_version": "1.2.0",
            "_view_name": "StyleView",
            "button_color": null,
            "font_weight": ""
          }
        },
        "69bab5596034421581f88c36b4fa0597": {
          "model_module": "@jupyter-widgets/base",
          "model_name": "LayoutModel",
          "model_module_version": "1.2.0",
          "state": {
            "_model_module": "@jupyter-widgets/base",
            "_model_module_version": "1.2.0",
            "_model_name": "LayoutModel",
            "_view_count": null,
            "_view_module": "@jupyter-widgets/base",
            "_view_module_version": "1.2.0",
            "_view_name": "LayoutView",
            "align_content": null,
            "align_items": null,
            "align_self": null,
            "border": null,
            "bottom": null,
            "display": null,
            "flex": null,
            "flex_flow": null,
            "grid_area": null,
            "grid_auto_columns": null,
            "grid_auto_flow": null,
            "grid_auto_rows": null,
            "grid_column": null,
            "grid_gap": null,
            "grid_row": null,
            "grid_template_areas": null,
            "grid_template_columns": null,
            "grid_template_rows": null,
            "height": null,
            "justify_content": null,
            "justify_items": null,
            "left": null,
            "margin": null,
            "max_height": null,
            "max_width": null,
            "min_height": null,
            "min_width": null,
            "object_fit": null,
            "object_position": null,
            "order": null,
            "overflow": null,
            "overflow_x": null,
            "overflow_y": null,
            "padding": null,
            "right": null,
            "top": null,
            "visibility": null,
            "width": null
          }
        },
        "41a62b0142cd4c5ba49dd02b310abca7": {
          "model_module": "@jupyter-widgets/controls",
          "model_name": "DescriptionStyleModel",
          "model_module_version": "1.5.0",
          "state": {
            "_model_module": "@jupyter-widgets/controls",
            "_model_module_version": "1.5.0",
            "_model_name": "DescriptionStyleModel",
            "_view_count": null,
            "_view_module": "@jupyter-widgets/base",
            "_view_module_version": "1.2.0",
            "_view_name": "StyleView",
            "description_width": ""
          }
        },
        "080af39f0e854fa9904014f02ebee93b": {
          "model_module": "@jupyter-widgets/controls",
          "model_name": "HBoxModel",
          "model_module_version": "1.5.0",
          "state": {
            "_dom_classes": [],
            "_model_module": "@jupyter-widgets/controls",
            "_model_module_version": "1.5.0",
            "_model_name": "HBoxModel",
            "_view_count": null,
            "_view_module": "@jupyter-widgets/controls",
            "_view_module_version": "1.5.0",
            "_view_name": "HBoxView",
            "box_style": "",
            "children": [
              "IPY_MODEL_d69d592f822a4212b04edf993f1293cc",
              "IPY_MODEL_5165cc6e6f644daeb446f7ba964746f1",
              "IPY_MODEL_6b688577b95a491797e231f6340bb5af"
            ],
            "layout": "IPY_MODEL_45f255bd64834186b74ccb46270ee249"
          }
        },
        "d69d592f822a4212b04edf993f1293cc": {
          "model_module": "@jupyter-widgets/controls",
          "model_name": "HTMLModel",
          "model_module_version": "1.5.0",
          "state": {
            "_dom_classes": [],
            "_model_module": "@jupyter-widgets/controls",
            "_model_module_version": "1.5.0",
            "_model_name": "HTMLModel",
            "_view_count": null,
            "_view_module": "@jupyter-widgets/controls",
            "_view_module_version": "1.5.0",
            "_view_name": "HTMLView",
            "description": "",
            "description_tooltip": null,
            "layout": "IPY_MODEL_3a5aa5bab2a142f9a8f9a76125cc0499",
            "placeholder": "​",
            "style": "IPY_MODEL_0a89b7459f5447e8841b466314ab1050",
            "value": "Map (num_proc=4): 100%"
          }
        },
        "5165cc6e6f644daeb446f7ba964746f1": {
          "model_module": "@jupyter-widgets/controls",
          "model_name": "FloatProgressModel",
          "model_module_version": "1.5.0",
          "state": {
            "_dom_classes": [],
            "_model_module": "@jupyter-widgets/controls",
            "_model_module_version": "1.5.0",
            "_model_name": "FloatProgressModel",
            "_view_count": null,
            "_view_module": "@jupyter-widgets/controls",
            "_view_module_version": "1.5.0",
            "_view_name": "ProgressView",
            "bar_style": "success",
            "description": "",
            "description_tooltip": null,
            "layout": "IPY_MODEL_f79be0f6960543ed9ea9cd885bfb1d48",
            "max": 140,
            "min": 0,
            "orientation": "horizontal",
            "style": "IPY_MODEL_3caa37172eec4f458f63f31f218d5e96",
            "value": 140
          }
        },
        "6b688577b95a491797e231f6340bb5af": {
          "model_module": "@jupyter-widgets/controls",
          "model_name": "HTMLModel",
          "model_module_version": "1.5.0",
          "state": {
            "_dom_classes": [],
            "_model_module": "@jupyter-widgets/controls",
            "_model_module_version": "1.5.0",
            "_model_name": "HTMLModel",
            "_view_count": null,
            "_view_module": "@jupyter-widgets/controls",
            "_view_module_version": "1.5.0",
            "_view_name": "HTMLView",
            "description": "",
            "description_tooltip": null,
            "layout": "IPY_MODEL_06f7743465da4da3a69eada093404ccd",
            "placeholder": "​",
            "style": "IPY_MODEL_a6a1f741c0e147d2a0872374eb0d9246",
            "value": " 140/140 [00:00&lt;00:00, 316.68 examples/s]"
          }
        },
        "45f255bd64834186b74ccb46270ee249": {
          "model_module": "@jupyter-widgets/base",
          "model_name": "LayoutModel",
          "model_module_version": "1.2.0",
          "state": {
            "_model_module": "@jupyter-widgets/base",
            "_model_module_version": "1.2.0",
            "_model_name": "LayoutModel",
            "_view_count": null,
            "_view_module": "@jupyter-widgets/base",
            "_view_module_version": "1.2.0",
            "_view_name": "LayoutView",
            "align_content": null,
            "align_items": null,
            "align_self": null,
            "border": null,
            "bottom": null,
            "display": null,
            "flex": null,
            "flex_flow": null,
            "grid_area": null,
            "grid_auto_columns": null,
            "grid_auto_flow": null,
            "grid_auto_rows": null,
            "grid_column": null,
            "grid_gap": null,
            "grid_row": null,
            "grid_template_areas": null,
            "grid_template_columns": null,
            "grid_template_rows": null,
            "height": null,
            "justify_content": null,
            "justify_items": null,
            "left": null,
            "margin": null,
            "max_height": null,
            "max_width": null,
            "min_height": null,
            "min_width": null,
            "object_fit": null,
            "object_position": null,
            "order": null,
            "overflow": null,
            "overflow_x": null,
            "overflow_y": null,
            "padding": null,
            "right": null,
            "top": null,
            "visibility": null,
            "width": null
          }
        },
        "3a5aa5bab2a142f9a8f9a76125cc0499": {
          "model_module": "@jupyter-widgets/base",
          "model_name": "LayoutModel",
          "model_module_version": "1.2.0",
          "state": {
            "_model_module": "@jupyter-widgets/base",
            "_model_module_version": "1.2.0",
            "_model_name": "LayoutModel",
            "_view_count": null,
            "_view_module": "@jupyter-widgets/base",
            "_view_module_version": "1.2.0",
            "_view_name": "LayoutView",
            "align_content": null,
            "align_items": null,
            "align_self": null,
            "border": null,
            "bottom": null,
            "display": null,
            "flex": null,
            "flex_flow": null,
            "grid_area": null,
            "grid_auto_columns": null,
            "grid_auto_flow": null,
            "grid_auto_rows": null,
            "grid_column": null,
            "grid_gap": null,
            "grid_row": null,
            "grid_template_areas": null,
            "grid_template_columns": null,
            "grid_template_rows": null,
            "height": null,
            "justify_content": null,
            "justify_items": null,
            "left": null,
            "margin": null,
            "max_height": null,
            "max_width": null,
            "min_height": null,
            "min_width": null,
            "object_fit": null,
            "object_position": null,
            "order": null,
            "overflow": null,
            "overflow_x": null,
            "overflow_y": null,
            "padding": null,
            "right": null,
            "top": null,
            "visibility": null,
            "width": null
          }
        },
        "0a89b7459f5447e8841b466314ab1050": {
          "model_module": "@jupyter-widgets/controls",
          "model_name": "DescriptionStyleModel",
          "model_module_version": "1.5.0",
          "state": {
            "_model_module": "@jupyter-widgets/controls",
            "_model_module_version": "1.5.0",
            "_model_name": "DescriptionStyleModel",
            "_view_count": null,
            "_view_module": "@jupyter-widgets/base",
            "_view_module_version": "1.2.0",
            "_view_name": "StyleView",
            "description_width": ""
          }
        },
        "f79be0f6960543ed9ea9cd885bfb1d48": {
          "model_module": "@jupyter-widgets/base",
          "model_name": "LayoutModel",
          "model_module_version": "1.2.0",
          "state": {
            "_model_module": "@jupyter-widgets/base",
            "_model_module_version": "1.2.0",
            "_model_name": "LayoutModel",
            "_view_count": null,
            "_view_module": "@jupyter-widgets/base",
            "_view_module_version": "1.2.0",
            "_view_name": "LayoutView",
            "align_content": null,
            "align_items": null,
            "align_self": null,
            "border": null,
            "bottom": null,
            "display": null,
            "flex": null,
            "flex_flow": null,
            "grid_area": null,
            "grid_auto_columns": null,
            "grid_auto_flow": null,
            "grid_auto_rows": null,
            "grid_column": null,
            "grid_gap": null,
            "grid_row": null,
            "grid_template_areas": null,
            "grid_template_columns": null,
            "grid_template_rows": null,
            "height": null,
            "justify_content": null,
            "justify_items": null,
            "left": null,
            "margin": null,
            "max_height": null,
            "max_width": null,
            "min_height": null,
            "min_width": null,
            "object_fit": null,
            "object_position": null,
            "order": null,
            "overflow": null,
            "overflow_x": null,
            "overflow_y": null,
            "padding": null,
            "right": null,
            "top": null,
            "visibility": null,
            "width": null
          }
        },
        "3caa37172eec4f458f63f31f218d5e96": {
          "model_module": "@jupyter-widgets/controls",
          "model_name": "ProgressStyleModel",
          "model_module_version": "1.5.0",
          "state": {
            "_model_module": "@jupyter-widgets/controls",
            "_model_module_version": "1.5.0",
            "_model_name": "ProgressStyleModel",
            "_view_count": null,
            "_view_module": "@jupyter-widgets/base",
            "_view_module_version": "1.2.0",
            "_view_name": "StyleView",
            "bar_color": null,
            "description_width": ""
          }
        },
        "06f7743465da4da3a69eada093404ccd": {
          "model_module": "@jupyter-widgets/base",
          "model_name": "LayoutModel",
          "model_module_version": "1.2.0",
          "state": {
            "_model_module": "@jupyter-widgets/base",
            "_model_module_version": "1.2.0",
            "_model_name": "LayoutModel",
            "_view_count": null,
            "_view_module": "@jupyter-widgets/base",
            "_view_module_version": "1.2.0",
            "_view_name": "LayoutView",
            "align_content": null,
            "align_items": null,
            "align_self": null,
            "border": null,
            "bottom": null,
            "display": null,
            "flex": null,
            "flex_flow": null,
            "grid_area": null,
            "grid_auto_columns": null,
            "grid_auto_flow": null,
            "grid_auto_rows": null,
            "grid_column": null,
            "grid_gap": null,
            "grid_row": null,
            "grid_template_areas": null,
            "grid_template_columns": null,
            "grid_template_rows": null,
            "height": null,
            "justify_content": null,
            "justify_items": null,
            "left": null,
            "margin": null,
            "max_height": null,
            "max_width": null,
            "min_height": null,
            "min_width": null,
            "object_fit": null,
            "object_position": null,
            "order": null,
            "overflow": null,
            "overflow_x": null,
            "overflow_y": null,
            "padding": null,
            "right": null,
            "top": null,
            "visibility": null,
            "width": null
          }
        },
        "a6a1f741c0e147d2a0872374eb0d9246": {
          "model_module": "@jupyter-widgets/controls",
          "model_name": "DescriptionStyleModel",
          "model_module_version": "1.5.0",
          "state": {
            "_model_module": "@jupyter-widgets/controls",
            "_model_module_version": "1.5.0",
            "_model_name": "DescriptionStyleModel",
            "_view_count": null,
            "_view_module": "@jupyter-widgets/base",
            "_view_module_version": "1.2.0",
            "_view_name": "StyleView",
            "description_width": ""
          }
        },
        "95708e6da0134cd284636116c9f9c62c": {
          "model_module": "@jupyter-widgets/controls",
          "model_name": "HBoxModel",
          "model_module_version": "1.5.0",
          "state": {
            "_dom_classes": [],
            "_model_module": "@jupyter-widgets/controls",
            "_model_module_version": "1.5.0",
            "_model_name": "HBoxModel",
            "_view_count": null,
            "_view_module": "@jupyter-widgets/controls",
            "_view_module_version": "1.5.0",
            "_view_name": "HBoxView",
            "box_style": "",
            "children": [
              "IPY_MODEL_c36cda76c5084737a58d5b34ac69b9b1",
              "IPY_MODEL_1eebd211ba904b62b3e7f6a47c8ea6fe",
              "IPY_MODEL_93d54d3085594c1594469680cb65b462"
            ],
            "layout": "IPY_MODEL_eb7b4043fbea4707bfd421ab1c58e993"
          }
        },
        "c36cda76c5084737a58d5b34ac69b9b1": {
          "model_module": "@jupyter-widgets/controls",
          "model_name": "HTMLModel",
          "model_module_version": "1.5.0",
          "state": {
            "_dom_classes": [],
            "_model_module": "@jupyter-widgets/controls",
            "_model_module_version": "1.5.0",
            "_model_name": "HTMLModel",
            "_view_count": null,
            "_view_module": "@jupyter-widgets/controls",
            "_view_module_version": "1.5.0",
            "_view_name": "HTMLView",
            "description": "",
            "description_tooltip": null,
            "layout": "IPY_MODEL_835c7e4ae984483d81bfc970ac6bebd2",
            "placeholder": "​",
            "style": "IPY_MODEL_8ad730782e9e4df6818c0acf978a745b",
            "value": "Map (num_proc=4): 100%"
          }
        },
        "1eebd211ba904b62b3e7f6a47c8ea6fe": {
          "model_module": "@jupyter-widgets/controls",
          "model_name": "FloatProgressModel",
          "model_module_version": "1.5.0",
          "state": {
            "_dom_classes": [],
            "_model_module": "@jupyter-widgets/controls",
            "_model_module_version": "1.5.0",
            "_model_name": "FloatProgressModel",
            "_view_count": null,
            "_view_module": "@jupyter-widgets/controls",
            "_view_module_version": "1.5.0",
            "_view_name": "ProgressView",
            "bar_style": "success",
            "description": "",
            "description_tooltip": null,
            "layout": "IPY_MODEL_c2c5f201f7be4e9993dffd3823bbe241",
            "max": 60,
            "min": 0,
            "orientation": "horizontal",
            "style": "IPY_MODEL_a9fb48e2027a4ef382092021c8ad1bd2",
            "value": 60
          }
        },
        "93d54d3085594c1594469680cb65b462": {
          "model_module": "@jupyter-widgets/controls",
          "model_name": "HTMLModel",
          "model_module_version": "1.5.0",
          "state": {
            "_dom_classes": [],
            "_model_module": "@jupyter-widgets/controls",
            "_model_module_version": "1.5.0",
            "_model_name": "HTMLModel",
            "_view_count": null,
            "_view_module": "@jupyter-widgets/controls",
            "_view_module_version": "1.5.0",
            "_view_name": "HTMLView",
            "description": "",
            "description_tooltip": null,
            "layout": "IPY_MODEL_fed1369517c944ebaaf33e096f5bf022",
            "placeholder": "​",
            "style": "IPY_MODEL_21875536281448c7810a395adda36907",
            "value": " 60/60 [00:00&lt;00:00, 43.40 examples/s]"
          }
        },
        "eb7b4043fbea4707bfd421ab1c58e993": {
          "model_module": "@jupyter-widgets/base",
          "model_name": "LayoutModel",
          "model_module_version": "1.2.0",
          "state": {
            "_model_module": "@jupyter-widgets/base",
            "_model_module_version": "1.2.0",
            "_model_name": "LayoutModel",
            "_view_count": null,
            "_view_module": "@jupyter-widgets/base",
            "_view_module_version": "1.2.0",
            "_view_name": "LayoutView",
            "align_content": null,
            "align_items": null,
            "align_self": null,
            "border": null,
            "bottom": null,
            "display": null,
            "flex": null,
            "flex_flow": null,
            "grid_area": null,
            "grid_auto_columns": null,
            "grid_auto_flow": null,
            "grid_auto_rows": null,
            "grid_column": null,
            "grid_gap": null,
            "grid_row": null,
            "grid_template_areas": null,
            "grid_template_columns": null,
            "grid_template_rows": null,
            "height": null,
            "justify_content": null,
            "justify_items": null,
            "left": null,
            "margin": null,
            "max_height": null,
            "max_width": null,
            "min_height": null,
            "min_width": null,
            "object_fit": null,
            "object_position": null,
            "order": null,
            "overflow": null,
            "overflow_x": null,
            "overflow_y": null,
            "padding": null,
            "right": null,
            "top": null,
            "visibility": null,
            "width": null
          }
        },
        "835c7e4ae984483d81bfc970ac6bebd2": {
          "model_module": "@jupyter-widgets/base",
          "model_name": "LayoutModel",
          "model_module_version": "1.2.0",
          "state": {
            "_model_module": "@jupyter-widgets/base",
            "_model_module_version": "1.2.0",
            "_model_name": "LayoutModel",
            "_view_count": null,
            "_view_module": "@jupyter-widgets/base",
            "_view_module_version": "1.2.0",
            "_view_name": "LayoutView",
            "align_content": null,
            "align_items": null,
            "align_self": null,
            "border": null,
            "bottom": null,
            "display": null,
            "flex": null,
            "flex_flow": null,
            "grid_area": null,
            "grid_auto_columns": null,
            "grid_auto_flow": null,
            "grid_auto_rows": null,
            "grid_column": null,
            "grid_gap": null,
            "grid_row": null,
            "grid_template_areas": null,
            "grid_template_columns": null,
            "grid_template_rows": null,
            "height": null,
            "justify_content": null,
            "justify_items": null,
            "left": null,
            "margin": null,
            "max_height": null,
            "max_width": null,
            "min_height": null,
            "min_width": null,
            "object_fit": null,
            "object_position": null,
            "order": null,
            "overflow": null,
            "overflow_x": null,
            "overflow_y": null,
            "padding": null,
            "right": null,
            "top": null,
            "visibility": null,
            "width": null
          }
        },
        "8ad730782e9e4df6818c0acf978a745b": {
          "model_module": "@jupyter-widgets/controls",
          "model_name": "DescriptionStyleModel",
          "model_module_version": "1.5.0",
          "state": {
            "_model_module": "@jupyter-widgets/controls",
            "_model_module_version": "1.5.0",
            "_model_name": "DescriptionStyleModel",
            "_view_count": null,
            "_view_module": "@jupyter-widgets/base",
            "_view_module_version": "1.2.0",
            "_view_name": "StyleView",
            "description_width": ""
          }
        },
        "c2c5f201f7be4e9993dffd3823bbe241": {
          "model_module": "@jupyter-widgets/base",
          "model_name": "LayoutModel",
          "model_module_version": "1.2.0",
          "state": {
            "_model_module": "@jupyter-widgets/base",
            "_model_module_version": "1.2.0",
            "_model_name": "LayoutModel",
            "_view_count": null,
            "_view_module": "@jupyter-widgets/base",
            "_view_module_version": "1.2.0",
            "_view_name": "LayoutView",
            "align_content": null,
            "align_items": null,
            "align_self": null,
            "border": null,
            "bottom": null,
            "display": null,
            "flex": null,
            "flex_flow": null,
            "grid_area": null,
            "grid_auto_columns": null,
            "grid_auto_flow": null,
            "grid_auto_rows": null,
            "grid_column": null,
            "grid_gap": null,
            "grid_row": null,
            "grid_template_areas": null,
            "grid_template_columns": null,
            "grid_template_rows": null,
            "height": null,
            "justify_content": null,
            "justify_items": null,
            "left": null,
            "margin": null,
            "max_height": null,
            "max_width": null,
            "min_height": null,
            "min_width": null,
            "object_fit": null,
            "object_position": null,
            "order": null,
            "overflow": null,
            "overflow_x": null,
            "overflow_y": null,
            "padding": null,
            "right": null,
            "top": null,
            "visibility": null,
            "width": null
          }
        },
        "a9fb48e2027a4ef382092021c8ad1bd2": {
          "model_module": "@jupyter-widgets/controls",
          "model_name": "ProgressStyleModel",
          "model_module_version": "1.5.0",
          "state": {
            "_model_module": "@jupyter-widgets/controls",
            "_model_module_version": "1.5.0",
            "_model_name": "ProgressStyleModel",
            "_view_count": null,
            "_view_module": "@jupyter-widgets/base",
            "_view_module_version": "1.2.0",
            "_view_name": "StyleView",
            "bar_color": null,
            "description_width": ""
          }
        },
        "fed1369517c944ebaaf33e096f5bf022": {
          "model_module": "@jupyter-widgets/base",
          "model_name": "LayoutModel",
          "model_module_version": "1.2.0",
          "state": {
            "_model_module": "@jupyter-widgets/base",
            "_model_module_version": "1.2.0",
            "_model_name": "LayoutModel",
            "_view_count": null,
            "_view_module": "@jupyter-widgets/base",
            "_view_module_version": "1.2.0",
            "_view_name": "LayoutView",
            "align_content": null,
            "align_items": null,
            "align_self": null,
            "border": null,
            "bottom": null,
            "display": null,
            "flex": null,
            "flex_flow": null,
            "grid_area": null,
            "grid_auto_columns": null,
            "grid_auto_flow": null,
            "grid_auto_rows": null,
            "grid_column": null,
            "grid_gap": null,
            "grid_row": null,
            "grid_template_areas": null,
            "grid_template_columns": null,
            "grid_template_rows": null,
            "height": null,
            "justify_content": null,
            "justify_items": null,
            "left": null,
            "margin": null,
            "max_height": null,
            "max_width": null,
            "min_height": null,
            "min_width": null,
            "object_fit": null,
            "object_position": null,
            "order": null,
            "overflow": null,
            "overflow_x": null,
            "overflow_y": null,
            "padding": null,
            "right": null,
            "top": null,
            "visibility": null,
            "width": null
          }
        },
        "21875536281448c7810a395adda36907": {
          "model_module": "@jupyter-widgets/controls",
          "model_name": "DescriptionStyleModel",
          "model_module_version": "1.5.0",
          "state": {
            "_model_module": "@jupyter-widgets/controls",
            "_model_module_version": "1.5.0",
            "_model_name": "DescriptionStyleModel",
            "_view_count": null,
            "_view_module": "@jupyter-widgets/base",
            "_view_module_version": "1.2.0",
            "_view_name": "StyleView",
            "description_width": ""
          }
        }
      }
    },
    "accelerator": "GPU"
  },
  "nbformat": 4,
  "nbformat_minor": 0
}